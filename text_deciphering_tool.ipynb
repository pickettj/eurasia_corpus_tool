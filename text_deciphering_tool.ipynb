{
 "cells": [
  {
   "cell_type": "markdown",
   "metadata": {},
   "source": [
    "# Text Deciphering Tool"
   ]
  },
  {
   "cell_type": "code",
   "execution_count": 1,
   "metadata": {},
   "outputs": [],
   "source": [
    "import pickle, re, nltk, os"
   ]
  },
  {
   "cell_type": "code",
   "execution_count": 2,
   "metadata": {},
   "outputs": [],
   "source": [
    "import numpy as np\n",
    "import pandas as pd\n",
    "\n",
    "from pandas import DataFrame, Series"
   ]
  },
  {
   "cell_type": "code",
   "execution_count": 3,
   "metadata": {},
   "outputs": [],
   "source": [
    "#set home directory path\n",
    "hdir = os.path.expanduser('~')"
   ]
  },
  {
   "cell_type": "markdown",
   "metadata": {},
   "source": [
    "Sister files:\n",
    "- Pickled corpora cleaned in text_cleaning_tokenizing\n",
    "- Corpora stats in corpora_statistics"
   ]
  },
  {
   "cell_type": "markdown",
   "metadata": {},
   "source": [
    "## I. Importing Corpora\n",
    "\n"
   ]
  },
  {
   "cell_type": "code",
   "execution_count": 4,
   "metadata": {},
   "outputs": [],
   "source": [
    "pickle_path = hdir + \"/Box/Notes/Digital_Humanities/Corpora/pickled_tokenized_cleaned_corpora\""
   ]
  },
  {
   "cell_type": "code",
   "execution_count": 5,
   "metadata": {},
   "outputs": [],
   "source": [
    "with open(pickle_path + \"/corpora.pkl\", \"rb\") as f:\n",
    "    unsorted_doc_toks,\\\n",
    "                indo_xml_toks, hyd_xml_toks, trans_xml_toks,\\\n",
    "                trans_nar_toks, indo_nar_toks,\\\n",
    "                trans_nar_ext_toks, indo_nar_ext_toks = pickle.load(f)"
   ]
  },
  {
   "cell_type": "code",
   "execution_count": 6,
   "metadata": {},
   "outputs": [],
   "source": [
    "#trans_xml_toks.keys()"
   ]
  },
  {
   "cell_type": "code",
   "execution_count": 7,
   "metadata": {},
   "outputs": [],
   "source": [
    "with open(pickle_path + \"/meta_corpora.pkl\", \"rb\") as f:\n",
    "    comb_india_nar_toks, comb_trans_nar_toks, nar_corpus_toks, doc_corpus_toks,\\\n",
    "                combined_corpus_toks, mega_corpus_toks = pickle.load(f)"
   ]
  },
  {
   "cell_type": "code",
   "execution_count": 76,
   "metadata": {},
   "outputs": [],
   "source": [
    "\n",
    "#\"خان\" in combined_corpus_toks[\"tarikh_i_baljuvan_al_biruni_2663iii_ser412\"]\n",
    "        \n"
   ]
  },
  {
   "cell_type": "markdown",
   "metadata": {},
   "source": [
    "## II. Importing Raw Tokens\n",
    "I.e. tokens without parent text designation, i.e. format necessary for many NLTK routines."
   ]
  },
  {
   "cell_type": "code",
   "execution_count": 9,
   "metadata": {},
   "outputs": [],
   "source": [
    "with open(pickle_path + \"/raw_tokens.pkl\", \"rb\") as f:\n",
    "    raw_doc_toks, raw_nar_toks, raw_lit_toks, raw_combo_toks = pickle.load(f)"
   ]
  },
  {
   "cell_type": "code",
   "execution_count": 10,
   "metadata": {},
   "outputs": [],
   "source": [
    "#raw_combo_toks[100:125]"
   ]
  },
  {
   "cell_type": "markdown",
   "metadata": {},
   "source": [
    "## III. Importing Datasets"
   ]
  },
  {
   "cell_type": "markdown",
   "metadata": {},
   "source": [
    "- Von Melzer Persian Lexicon\n",
    "- Glossary\n",
    "- Place Names"
   ]
  },
  {
   "cell_type": "code",
   "execution_count": 13,
   "metadata": {},
   "outputs": [],
   "source": [
    "# dataset path\n",
    "\n",
    "ds_path = hdir + \"/Box/Notes/Digital_Humanities/Datasets\""
   ]
  },
  {
   "cell_type": "code",
   "execution_count": 158,
   "metadata": {},
   "outputs": [],
   "source": [
    "# Von Melzer\n",
    "meltzer = pd.read_csv(ds_path + \"/von_melzer.csv\")"
   ]
  },
  {
   "cell_type": "code",
   "execution_count": 159,
   "metadata": {},
   "outputs": [],
   "source": [
    "#meltzer[\"Präs.-Stamm\"].sample(5)\n",
    "#meltzer.sample(10)"
   ]
  },
  {
   "cell_type": "code",
   "execution_count": 40,
   "metadata": {},
   "outputs": [],
   "source": [
    "# Locations\n",
    "locations = pd.read_csv(ds_path + '/exported_database_data/locations.csv', names=['UID', 'Ar_Names', \\\n",
    "                                                'Lat_Name', 'Nickname', 'Type'])\n",
    "# Social Roles\n",
    "roles = pd.read_csv(ds_path + '/exported_database_data/roles.csv', names=['UID', 'Term', 'Emic', 'Etic', 'Scope'])\n",
    "\n",
    "# Glossary\n",
    "glossary = pd.read_csv(ds_path + '/exported_database_data/glossary.csv', names=['UID', 'Term', \\\n",
    "                                                'Eng_Term', 'Translation', 'Transliteration', 'Scope', 'Tags'])"
   ]
  },
  {
   "cell_type": "markdown",
   "metadata": {},
   "source": [
    "___\n",
    "___"
   ]
  },
  {
   "cell_type": "markdown",
   "metadata": {},
   "source": [
    "# Basic Search"
   ]
  },
  {
   "cell_type": "markdown",
   "metadata": {},
   "source": [
    "Regex reminders:\n",
    "- Just the word itself: `^مال$`"
   ]
  },
  {
   "cell_type": "code",
   "execution_count": 160,
   "metadata": {},
   "outputs": [],
   "source": [
    "search_term = re.compile(r\"ب.د\")"
   ]
  },
  {
   "cell_type": "markdown",
   "metadata": {},
   "source": [
    "### Von Melzer Persion Dictionary"
   ]
  },
  {
   "cell_type": "code",
   "execution_count": 161,
   "metadata": {},
   "outputs": [
    {
     "data": {
      "text/html": [
       "<div>\n",
       "<style scoped>\n",
       "    .dataframe tbody tr th:only-of-type {\n",
       "        vertical-align: middle;\n",
       "    }\n",
       "\n",
       "    .dataframe tbody tr th {\n",
       "        vertical-align: top;\n",
       "    }\n",
       "\n",
       "    .dataframe thead th {\n",
       "        text-align: right;\n",
       "    }\n",
       "</style>\n",
       "<table border=\"1\" class=\"dataframe\">\n",
       "  <thead>\n",
       "    <tr style=\"text-align: right;\">\n",
       "      <th></th>\n",
       "      <th>UID</th>\n",
       "      <th>Volume</th>\n",
       "      <th>Unnamed: 2</th>\n",
       "      <th>Persisch</th>\n",
       "      <th>Präs.-Stamm</th>\n",
       "      <th>Transkription</th>\n",
       "      <th>Deutsch</th>\n",
       "      <th>Bemerkung</th>\n",
       "      <th>Quellenangaben</th>\n",
       "    </tr>\n",
       "  </thead>\n",
       "  <tbody>\n",
       "    <tr>\n",
       "      <td>45</td>\n",
       "      <td>46</td>\n",
       "      <td>I</td>\n",
       "      <td>45</td>\n",
       "      <td>46</td>\n",
       "      <td>‫ﺁب بادﻩ رنگ‬</td>\n",
       "      <td>āb-e bāde-rang</td>\n",
       "      <td>blutige Tränen</td>\n",
       "      <td>NaN</td>\n",
       "      <td>FN I 9b</td>\n",
       "    </tr>\n",
       "    <tr>\n",
       "      <td>62</td>\n",
       "      <td>63</td>\n",
       "      <td>I</td>\n",
       "      <td>62</td>\n",
       "      <td>63</td>\n",
       "      <td>‫ﺁب بردار‬</td>\n",
       "      <td>āb-bar-dār</td>\n",
       "      <td>sinnvoll; gedankenreich</td>\n",
       "      <td>NaN</td>\n",
       "      <td>Haïm 1934:I 1045b</td>\n",
       "    </tr>\n",
       "    <tr>\n",
       "      <td>63</td>\n",
       "      <td>64</td>\n",
       "      <td>I</td>\n",
       "      <td>63</td>\n",
       "      <td>64</td>\n",
       "      <td>‫ﺁب بردن‬</td>\n",
       "      <td>āb bordan</td>\n",
       "      <td>Wasser führen</td>\n",
       "      <td>[durchgestr.]</td>\n",
       "      <td>ʿAṭṭār</td>\n",
       "    </tr>\n",
       "    <tr>\n",
       "      <td>73</td>\n",
       "      <td>74</td>\n",
       "      <td>I</td>\n",
       "      <td>73</td>\n",
       "      <td>74</td>\n",
       "      <td>‫ﺁب بقدر یک سنگ‬</td>\n",
       "      <td>āb be-qadr⁺-e jek sang</td>\n",
       "      <td>Wasser für einen Mühlstein</td>\n",
       "      <td>NaN</td>\n",
       "      <td>Rosen 1890:100</td>\n",
       "    </tr>\n",
       "    <tr>\n",
       "      <td>74</td>\n",
       "      <td>75</td>\n",
       "      <td>I</td>\n",
       "      <td>74</td>\n",
       "      <td>75</td>\n",
       "      <td>‫ﺁب بند‬</td>\n",
       "      <td>āb-band</td>\n",
       "      <td>Damm (m.); Deich (m.)</td>\n",
       "      <td>NaN</td>\n",
       "      <td>Haïm 1934:I 1045b</td>\n",
       "    </tr>\n",
       "    <tr>\n",
       "      <td>...</td>\n",
       "      <td>...</td>\n",
       "      <td>...</td>\n",
       "      <td>...</td>\n",
       "      <td>...</td>\n",
       "      <td>...</td>\n",
       "      <td>...</td>\n",
       "      <td>...</td>\n",
       "      <td>...</td>\n",
       "      <td>...</td>\n",
       "    </tr>\n",
       "    <tr>\n",
       "      <td>65269</td>\n",
       "      <td>65270</td>\n",
       "      <td>IV</td>\n",
       "      <td>8242</td>\n",
       "      <td>4964</td>\n",
       "      <td>(‫معترض بودن )که‬</td>\n",
       "      <td>mo ke</td>\n",
       "      <td>ʾtarez⁺ būdan (+Akk.; )</td>\n",
       "      <td>bekennen; eingestehen; gestehen (was; daß)</td>\n",
       "      <td>Īrānšahr I 317/6</td>\n",
       "    </tr>\n",
       "    <tr>\n",
       "      <td>65280</td>\n",
       "      <td>65281</td>\n",
       "      <td>IV</td>\n",
       "      <td>8253</td>\n",
       "      <td>4975</td>\n",
       "      <td>‫معتکف پردﻩ بودن‬</td>\n",
       "      <td>mo</td>\n",
       "      <td>ʾtakef⁺-e parde būdan</td>\n",
       "      <td>stets hinter dem Vorhang verweilen</td>\n",
       "      <td>Ḥāfiẓ (Dīvān 192/3V.)</td>\n",
       "    </tr>\n",
       "    <tr>\n",
       "      <td>65413</td>\n",
       "      <td>65414</td>\n",
       "      <td>IV</td>\n",
       "      <td>8386</td>\n",
       "      <td>5108</td>\n",
       "      <td>‫معشوق… بودن‬</td>\n",
       "      <td>ma</td>\n",
       "      <td>ʾšūq⁺-e… būdan</td>\n",
       "      <td>geliebt werden (von)</td>\n",
       "      <td>Īrānšahr I 184/24</td>\n",
       "    </tr>\n",
       "    <tr>\n",
       "      <td>65442</td>\n",
       "      <td>65443</td>\n",
       "      <td>IV</td>\n",
       "      <td>8415</td>\n",
       "      <td>5137</td>\n",
       "      <td>‫معطل… بودن‬</td>\n",
       "      <td>moʾattal⁺-e… būdan</td>\n",
       "      <td>NaN</td>\n",
       "      <td>warten (auf)</td>\n",
       "      <td>Hinz 1942:87</td>\n",
       "    </tr>\n",
       "    <tr>\n",
       "      <td>65483</td>\n",
       "      <td>65484</td>\n",
       "      <td>IV</td>\n",
       "      <td>8456</td>\n",
       "      <td>5178</td>\n",
       "      <td>‫معلم درجه ابتدائی‬</td>\n",
       "      <td>moʾallem⁺-e daraǧe⁺-je ebtedāʾī⁺</td>\n",
       "      <td>Elementarschullehrer (m.)</td>\n",
       "      <td>NaN</td>\n",
       "      <td>Beck 1914:47</td>\n",
       "    </tr>\n",
       "  </tbody>\n",
       "</table>\n",
       "<p>1764 rows × 9 columns</p>\n",
       "</div>"
      ],
      "text/plain": [
       "         UID Volume  Unnamed: 2  Persisch          Präs.-Stamm  \\\n",
       "45        46      I          45        46        ‫ﺁب بادﻩ رنگ‬   \n",
       "62        63      I          62        63           ‫ﺁب بردار‬   \n",
       "63        64      I          63        64            ‫ﺁب بردن‬   \n",
       "73        74      I          73        74     ‫ﺁب بقدر یک سنگ‬   \n",
       "74        75      I          74        75             ‫ﺁب بند‬   \n",
       "...      ...    ...         ...       ...                  ...   \n",
       "65269  65270     IV        8242      4964    (‫معترض بودن )که‬   \n",
       "65280  65281     IV        8253      4975    ‫معتکف پردﻩ بودن‬   \n",
       "65413  65414     IV        8386      5108        ‫معشوق… بودن‬   \n",
       "65442  65443     IV        8415      5137         ‫معطل… بودن‬   \n",
       "65483  65484     IV        8456      5178  ‫معلم درجه ابتدائی‬   \n",
       "\n",
       "                          Transkription                     Deutsch  \\\n",
       "45                       āb-e bāde-rang              blutige Tränen   \n",
       "62                           āb-bar-dār     sinnvoll; gedankenreich   \n",
       "63                            āb bordan               Wasser führen   \n",
       "73               āb be-qadr⁺-e jek sang  Wasser für einen Mühlstein   \n",
       "74                              āb-band       Damm (m.); Deich (m.)   \n",
       "...                                 ...                         ...   \n",
       "65269                             mo ke     ʾtarez⁺ būdan (+Akk.; )   \n",
       "65280                                mo       ʾtakef⁺-e parde būdan   \n",
       "65413                                ma              ʾšūq⁺-e… būdan   \n",
       "65442                moʾattal⁺-e… būdan                         NaN   \n",
       "65483  moʾallem⁺-e daraǧe⁺-je ebtedāʾī⁺   Elementarschullehrer (m.)   \n",
       "\n",
       "                                        Bemerkung         Quellenangaben  \n",
       "45                                            NaN                FN I 9b  \n",
       "62                                            NaN      Haïm 1934:I 1045b  \n",
       "63                                  [durchgestr.]                 ʿAṭṭār  \n",
       "73                                            NaN         Rosen 1890:100  \n",
       "74                                            NaN      Haïm 1934:I 1045b  \n",
       "...                                           ...                    ...  \n",
       "65269  bekennen; eingestehen; gestehen (was; daß)       Īrānšahr I 317/6  \n",
       "65280          stets hinter dem Vorhang verweilen  Ḥāfiẓ (Dīvān 192/3V.)  \n",
       "65413                        geliebt werden (von)      Īrānšahr I 184/24  \n",
       "65442                                warten (auf)           Hinz 1942:87  \n",
       "65483                                         NaN           Beck 1914:47  \n",
       "\n",
       "[1764 rows x 9 columns]"
      ]
     },
     "execution_count": 161,
     "metadata": {},
     "output_type": "execute_result"
    }
   ],
   "source": [
    "melz_query_mask = meltzer[\"Präs.-Stamm\"].str.contains(search_term, na=False)\n",
    "melz_query = meltzer[melz_query_mask]\n",
    "melz_query"
   ]
  },
  {
   "cell_type": "markdown",
   "metadata": {},
   "source": [
    "### Database Terms"
   ]
  },
  {
   "cell_type": "markdown",
   "metadata": {},
   "source": [
    "#### (a) Technical Lexicon"
   ]
  },
  {
   "cell_type": "code",
   "execution_count": 150,
   "metadata": {
    "scrolled": true
   },
   "outputs": [
    {
     "data": {
      "text/html": [
       "<div>\n",
       "<style scoped>\n",
       "    .dataframe tbody tr th:only-of-type {\n",
       "        vertical-align: middle;\n",
       "    }\n",
       "\n",
       "    .dataframe tbody tr th {\n",
       "        vertical-align: top;\n",
       "    }\n",
       "\n",
       "    .dataframe thead th {\n",
       "        text-align: right;\n",
       "    }\n",
       "</style>\n",
       "<table border=\"1\" class=\"dataframe\">\n",
       "  <thead>\n",
       "    <tr style=\"text-align: right;\">\n",
       "      <th></th>\n",
       "      <th>UID</th>\n",
       "      <th>Term</th>\n",
       "      <th>Eng_Term</th>\n",
       "      <th>Translation</th>\n",
       "      <th>Transliteration</th>\n",
       "      <th>Scope</th>\n",
       "      <th>Tags</th>\n",
       "    </tr>\n",
       "  </thead>\n",
       "  <tbody>\n",
       "    <tr>\n",
       "      <td>49</td>\n",
       "      <td>51</td>\n",
       "      <td>آق قرا پل</td>\n",
       "      <td>aq qara pul</td>\n",
       "      <td>NaN</td>\n",
       "      <td>NaN</td>\n",
       "      <td>transoxania</td>\n",
       "      <td>money</td>\n",
       "    </tr>\n",
       "    <tr>\n",
       "      <td>157</td>\n",
       "      <td>160</td>\n",
       "      <td>آلیق</td>\n",
       "      <td>aliq</td>\n",
       "      <td>NaN</td>\n",
       "      <td>NaN</td>\n",
       "      <td>transoxania</td>\n",
       "      <td>taxes</td>\n",
       "    </tr>\n",
       "  </tbody>\n",
       "</table>\n",
       "</div>"
      ],
      "text/plain": [
       "     UID       Term     Eng_Term Translation Transliteration        Scope  \\\n",
       "49    51  آق قرا پل  aq qara pul         NaN             NaN  transoxania   \n",
       "157  160       آلیق         aliq         NaN             NaN  transoxania   \n",
       "\n",
       "      Tags  \n",
       "49   money  \n",
       "157  taxes  "
      ]
     },
     "execution_count": 150,
     "metadata": {},
     "output_type": "execute_result"
    }
   ],
   "source": [
    "glos_query_mask = glossary[\"Term\"].str.contains(search_term, na=False)\n",
    "glos_query = glossary[glos_query_mask]\n",
    "glos_query"
   ]
  },
  {
   "cell_type": "markdown",
   "metadata": {},
   "source": [
    "#### (b) Social Roles"
   ]
  },
  {
   "cell_type": "code",
   "execution_count": 46,
   "metadata": {},
   "outputs": [
    {
     "data": {
      "text/html": [
       "<div>\n",
       "<style scoped>\n",
       "    .dataframe tbody tr th:only-of-type {\n",
       "        vertical-align: middle;\n",
       "    }\n",
       "\n",
       "    .dataframe tbody tr th {\n",
       "        vertical-align: top;\n",
       "    }\n",
       "\n",
       "    .dataframe thead th {\n",
       "        text-align: right;\n",
       "    }\n",
       "</style>\n",
       "<table border=\"1\" class=\"dataframe\">\n",
       "  <thead>\n",
       "    <tr style=\"text-align: right;\">\n",
       "      <th></th>\n",
       "      <th>UID</th>\n",
       "      <th>Term</th>\n",
       "      <th>Emic</th>\n",
       "      <th>Etic</th>\n",
       "      <th>Scope</th>\n",
       "    </tr>\n",
       "  </thead>\n",
       "  <tbody>\n",
       "    <tr>\n",
       "      <td>22</td>\n",
       "      <td>23</td>\n",
       "      <td>Qazi</td>\n",
       "      <td>قاضی</td>\n",
       "      <td>NaN</td>\n",
       "      <td>Islamic</td>\n",
       "    </tr>\n",
       "    <tr>\n",
       "      <td>35</td>\n",
       "      <td>36</td>\n",
       "      <td>Qazi al-Quza</td>\n",
       "      <td>قاضی القضاة</td>\n",
       "      <td>NaN</td>\n",
       "      <td>Islamic</td>\n",
       "    </tr>\n",
       "    <tr>\n",
       "      <td>36</td>\n",
       "      <td>37</td>\n",
       "      <td>Qazi-yi Kalan</td>\n",
       "      <td>قاضی کلان</td>\n",
       "      <td>NaN</td>\n",
       "      <td>Transoxania</td>\n",
       "    </tr>\n",
       "    <tr>\n",
       "      <td>48</td>\n",
       "      <td>49</td>\n",
       "      <td>Qazi-yi Askari</td>\n",
       "      <td>قاضی عسکری</td>\n",
       "      <td>NaN</td>\n",
       "      <td>Transoxania</td>\n",
       "    </tr>\n",
       "  </tbody>\n",
       "</table>\n",
       "</div>"
      ],
      "text/plain": [
       "    UID            Term         Emic Etic        Scope\n",
       "22   23            Qazi         قاضی  NaN      Islamic\n",
       "35   36    Qazi al-Quza  قاضی القضاة  NaN      Islamic\n",
       "36   37   Qazi-yi Kalan    قاضی کلان  NaN  Transoxania\n",
       "48   49  Qazi-yi Askari   قاضی عسکری  NaN  Transoxania"
      ]
     },
     "execution_count": 46,
     "metadata": {},
     "output_type": "execute_result"
    }
   ],
   "source": [
    "roles_query_mask = roles[\"Emic\"].str.contains(search_term, na=False)\n",
    "roles_query = roles[roles_query_mask]\n",
    "roles_query"
   ]
  },
  {
   "cell_type": "markdown",
   "metadata": {},
   "source": [
    "#### (c) Place Names"
   ]
  },
  {
   "cell_type": "code",
   "execution_count": 142,
   "metadata": {},
   "outputs": [
    {
     "data": {
      "text/html": [
       "<div>\n",
       "<style scoped>\n",
       "    .dataframe tbody tr th:only-of-type {\n",
       "        vertical-align: middle;\n",
       "    }\n",
       "\n",
       "    .dataframe tbody tr th {\n",
       "        vertical-align: top;\n",
       "    }\n",
       "\n",
       "    .dataframe thead th {\n",
       "        text-align: right;\n",
       "    }\n",
       "</style>\n",
       "<table border=\"1\" class=\"dataframe\">\n",
       "  <thead>\n",
       "    <tr style=\"text-align: right;\">\n",
       "      <th></th>\n",
       "      <th>UID</th>\n",
       "      <th>Ar_Names</th>\n",
       "      <th>Lat_Name</th>\n",
       "      <th>Nickname</th>\n",
       "      <th>Type</th>\n",
       "    </tr>\n",
       "  </thead>\n",
       "  <tbody>\n",
       "    <tr>\n",
       "      <td>2</td>\n",
       "      <td>3</td>\n",
       "      <td>بخارا</td>\n",
       "      <td>Bukhāra (city)</td>\n",
       "      <td>Bukhara</td>\n",
       "      <td>city\u000b",
       "khanate</td>\n",
       "    </tr>\n",
       "    <tr>\n",
       "      <td>97</td>\n",
       "      <td>101</td>\n",
       "      <td>کاکان\u000b",
       "کاگان\u000b",
       "ینگی بخارا</td>\n",
       "      <td>Kāgān\u000b",
       "New Bukhara</td>\n",
       "      <td>Kagan</td>\n",
       "      <td>district\u000b",
       "city</td>\n",
       "    </tr>\n",
       "    <tr>\n",
       "      <td>453</td>\n",
       "      <td>5007</td>\n",
       "      <td>ارک بخارا</td>\n",
       "      <td>NaN</td>\n",
       "      <td>NaN</td>\n",
       "      <td>neighborhood\u000b",
       "guzar</td>\n",
       "    </tr>\n",
       "  </tbody>\n",
       "</table>\n",
       "</div>"
      ],
      "text/plain": [
       "      UID                Ar_Names           Lat_Name Nickname  \\\n",
       "2       3                   بخارا     Bukhāra (city)  Bukhara   \n",
       "97    101  کاکان\n",
       "کاگان\n",
       "ینگی بخارا  Kāgān\n",
       "New Bukhara    Kagan   \n",
       "453  5007               ارک بخارا                NaN      NaN   \n",
       "\n",
       "                   Type  \n",
       "2          city\n",
       "khanate  \n",
       "97        district\n",
       "city  \n",
       "453  neighborhood\n",
       "guzar  "
      ]
     },
     "execution_count": 142,
     "metadata": {},
     "output_type": "execute_result"
    }
   ],
   "source": [
    "loc_query_mask = locations[\"Ar_Names\"].str.contains(search_term, na=False)\n",
    "loc_query = locations[loc_query_mask]\n",
    "loc_query"
   ]
  },
  {
   "cell_type": "markdown",
   "metadata": {},
   "source": [
    "### Corpus Tokens"
   ]
  },
  {
   "cell_type": "code",
   "execution_count": 61,
   "metadata": {},
   "outputs": [],
   "source": [
    "search_term = re.compile(r\"قوشبیگی\")"
   ]
  },
  {
   "cell_type": "code",
   "execution_count": 62,
   "metadata": {},
   "outputs": [
    {
     "data": {
      "text/plain": [
       "['قوشبیگی', 'قوشبیگیاه']"
      ]
     },
     "execution_count": 62,
     "metadata": {},
     "output_type": "execute_result"
    }
   ],
   "source": [
    "combo_freq = nltk.FreqDist(raw_doc_toks)\n",
    "toks = [x for x in combo_freq if re.match(search_term, x)]\n",
    "toks[:5]"
   ]
  },
  {
   "cell_type": "markdown",
   "metadata": {},
   "source": [
    "### Keyword in Context"
   ]
  },
  {
   "cell_type": "code",
   "execution_count": 63,
   "metadata": {},
   "outputs": [
    {
     "name": "stdout",
     "output_type": "stream",
     "text": [
      "ر جناب وزارت پناهی قبله گاهی میر کل قوشبیگی معروض رای انور عالیجاهی زبده الا له\n",
      "نویسنده گان ایلچی خانه نوشته اند که قوشبیگی برای دولتخانه از دختران نویسنده گان\n",
      "پگاه تا پشین بعرک امیر رفته در نزد قوشبیگیاه ایستاده خبرداری دولت خاتمه کرده و \n"
     ]
    }
   ],
   "source": [
    "conc0 = sum([trans_corpus.concordance_list(x) for x in toks], [])\n",
    "conc1 = [c.line for c in conc0]\n",
    "print('\\n'.join(conc1))"
   ]
  },
  {
   "cell_type": "markdown",
   "metadata": {},
   "source": [
    "### Custom KWIC (beta)"
   ]
  },
  {
   "cell_type": "code",
   "execution_count": 67,
   "metadata": {},
   "outputs": [],
   "source": [
    "# Better KWIC: need to (a) list source,\n",
    "# and (b) have the ability to have multiple tokens in a row."
   ]
  },
  {
   "cell_type": "code",
   "execution_count": 69,
   "metadata": {},
   "outputs": [],
   "source": [
    "five_grams = nltk.ngrams(combined_corpus_toks, 5)"
   ]
  },
  {
   "cell_type": "code",
   "execution_count": 70,
   "metadata": {},
   "outputs": [
    {
     "data": {
      "text/plain": [
       "False"
      ]
     },
     "execution_count": 70,
     "metadata": {},
     "output_type": "execute_result"
    }
   ],
   "source": [
    "five_grams = list(five_grams)\n",
    "five_grams[5][2] == \"پانصد\""
   ]
  },
  {
   "cell_type": "code",
   "execution_count": 66,
   "metadata": {},
   "outputs": [
    {
     "ename": "TypeError",
     "evalue": "list indices must be integers or slices, not tuple",
     "output_type": "error",
     "traceback": [
      "\u001b[0;31m---------------------------------------------------------------------------\u001b[0m",
      "\u001b[0;31mTypeError\u001b[0m                                 Traceback (most recent call last)",
      "\u001b[0;32m<ipython-input-66-ef25e6b49105>\u001b[0m in \u001b[0;36m<module>\u001b[0;34m\u001b[0m\n\u001b[0;32m----> 1\u001b[0;31m \u001b[0msearch_toks\u001b[0m \u001b[0;34m=\u001b[0m \u001b[0;34m[\u001b[0m\u001b[0mx\u001b[0m \u001b[0;32mfor\u001b[0m \u001b[0mx\u001b[0m \u001b[0;32min\u001b[0m \u001b[0mfive_grams\u001b[0m \u001b[0;32mif\u001b[0m \u001b[0mfive_grams\u001b[0m\u001b[0;34m[\u001b[0m\u001b[0mx\u001b[0m\u001b[0;34m]\u001b[0m\u001b[0;34m[\u001b[0m\u001b[0;36m2\u001b[0m\u001b[0;34m]\u001b[0m \u001b[0;32mis\u001b[0m \u001b[0;34m\"پانصد\"\u001b[0m\u001b[0;34m]\u001b[0m\u001b[0;34m\u001b[0m\u001b[0;34m\u001b[0m\u001b[0m\n\u001b[0m\u001b[1;32m      2\u001b[0m \u001b[0msearch_toks\u001b[0m\u001b[0;34m[\u001b[0m\u001b[0;34m:\u001b[0m\u001b[0;36m5\u001b[0m\u001b[0;34m]\u001b[0m\u001b[0;34m\u001b[0m\u001b[0;34m\u001b[0m\u001b[0m\n",
      "\u001b[0;32m<ipython-input-66-ef25e6b49105>\u001b[0m in \u001b[0;36m<listcomp>\u001b[0;34m(.0)\u001b[0m\n\u001b[0;32m----> 1\u001b[0;31m \u001b[0msearch_toks\u001b[0m \u001b[0;34m=\u001b[0m \u001b[0;34m[\u001b[0m\u001b[0mx\u001b[0m \u001b[0;32mfor\u001b[0m \u001b[0mx\u001b[0m \u001b[0;32min\u001b[0m \u001b[0mfive_grams\u001b[0m \u001b[0;32mif\u001b[0m \u001b[0mfive_grams\u001b[0m\u001b[0;34m[\u001b[0m\u001b[0mx\u001b[0m\u001b[0;34m]\u001b[0m\u001b[0;34m[\u001b[0m\u001b[0;36m2\u001b[0m\u001b[0;34m]\u001b[0m \u001b[0;32mis\u001b[0m \u001b[0;34m\"پانصد\"\u001b[0m\u001b[0;34m]\u001b[0m\u001b[0;34m\u001b[0m\u001b[0;34m\u001b[0m\u001b[0m\n\u001b[0m\u001b[1;32m      2\u001b[0m \u001b[0msearch_toks\u001b[0m\u001b[0;34m[\u001b[0m\u001b[0;34m:\u001b[0m\u001b[0;36m5\u001b[0m\u001b[0;34m]\u001b[0m\u001b[0;34m\u001b[0m\u001b[0;34m\u001b[0m\u001b[0m\n",
      "\u001b[0;31mTypeError\u001b[0m: list indices must be integers or slices, not tuple"
     ]
    }
   ],
   "source": [
    "search_toks = [x for x in five_grams if five_grams[x][2] is \"پانصد\"]\n",
    "search_toks[:5]"
   ]
  },
  {
   "cell_type": "markdown",
   "metadata": {},
   "source": [
    "___\n",
    "___"
   ]
  },
  {
   "cell_type": "markdown",
   "metadata": {},
   "source": [
    "# Conditional Frequency"
   ]
  },
  {
   "cell_type": "markdown",
   "metadata": {},
   "source": [
    "*Meta-Corpus*"
   ]
  },
  {
   "cell_type": "code",
   "execution_count": 98,
   "metadata": {},
   "outputs": [],
   "source": [
    "# ConditionalFreqDist() takes a list of pairs.\n",
    "# Generator variable uses itself up upon assignment, so need to recreate above\n",
    "\n",
    "bigrams_cfd = nltk.ngrams(raw_combo_toks, 2)\n",
    "\n",
    "cfd = nltk.ConditionalFreqDist(bigrams_cfd)"
   ]
  },
  {
   "cell_type": "markdown",
   "metadata": {},
   "source": [
    "### Simple Conditional Frequency:"
   ]
  },
  {
   "cell_type": "markdown",
   "metadata": {},
   "source": [
    "*Meta-Corpus*"
   ]
  },
  {
   "cell_type": "code",
   "execution_count": 101,
   "metadata": {},
   "outputs": [],
   "source": [
    "search_term = r\"قاضی\""
   ]
  },
  {
   "cell_type": "code",
   "execution_count": 122,
   "metadata": {},
   "outputs": [
    {
     "name": "stdout",
     "output_type": "stream",
     "text": [
      "مقرر  is most commonly followed by:\n",
      "\n"
     ]
    },
    {
     "data": {
      "text/plain": [
       "[('شد', 299), ('گشت', 191), ('شده', 161), ('بود', 113), ('گشته', 103)]"
      ]
     },
     "execution_count": 122,
     "metadata": {},
     "output_type": "execute_result"
    }
   ],
   "source": [
    "print (search_term, \" is most commonly followed by:\\n\")\n",
    "cfd[search_term].most_common(5)"
   ]
  },
  {
   "cell_type": "markdown",
   "metadata": {},
   "source": [
    "*Document Corpus*"
   ]
  },
  {
   "cell_type": "code",
   "execution_count": 105,
   "metadata": {},
   "outputs": [],
   "source": [
    "bigrams_doc_fd = nltk.ngrams(raw_doc_toks, 2)\n",
    "\n",
    "cfd_doc = nltk.ConditionalFreqDist(bigrams_doc_fd)"
   ]
  },
  {
   "cell_type": "code",
   "execution_count": 115,
   "metadata": {},
   "outputs": [],
   "source": [
    "search_term = \"مقرر\""
   ]
  },
  {
   "cell_type": "code",
   "execution_count": 121,
   "metadata": {},
   "outputs": [
    {
     "name": "stdout",
     "output_type": "stream",
     "text": [
      "\n",
      "in the documents corpus,  مقرر  is most commonly followed by: \n",
      "\n"
     ]
    },
    {
     "data": {
      "text/plain": [
       "[('و', 28), ('شده', 6), ('بود', 6), ('گشته', 4), ('است', 4)]"
      ]
     },
     "execution_count": 121,
     "metadata": {},
     "output_type": "execute_result"
    }
   ],
   "source": [
    "print (\"\\nin the documents corpus, \", search_term, \" is most commonly followed by: \\n\")\n",
    "cfd_doc[search_term].most_common(5)"
   ]
  },
  {
   "cell_type": "markdown",
   "metadata": {},
   "source": [
    "### Third term, if first two known:"
   ]
  },
  {
   "cell_type": "markdown",
   "metadata": {},
   "source": [
    "*Document Corpus (Meta-Corpus simply too computationally costly)*"
   ]
  },
  {
   "cell_type": "code",
   "execution_count": 123,
   "metadata": {},
   "outputs": [],
   "source": [
    "tri0 = nltk.ngrams(raw_doc_toks, 3)\n",
    "tri1 = [((a, b), c) for (a, b, c) in tri0]\n",
    "cfd1 = nltk.ConditionalFreqDist(tri1)"
   ]
  },
  {
   "cell_type": "code",
   "execution_count": 126,
   "metadata": {},
   "outputs": [],
   "source": [
    "first_term = \"بعد\"\n",
    "second_term = \"از\""
   ]
  },
  {
   "cell_type": "code",
   "execution_count": 130,
   "metadata": {},
   "outputs": [
    {
     "name": "stdout",
     "output_type": "stream",
     "text": [
      "The pair  بعد از  is most commonly followed by :\n",
      "\n"
     ]
    },
    {
     "data": {
      "text/plain": [
       "FreqDist({'ان': 34, 'ختم': 7, 'انقلاب': 3, 'چند': 2, 'آن': 2, 'قرن': 2, 'تبلیغ': 2, 'انکه': 2, 'ماه': 1, 'اظهار': 1, ...})"
      ]
     },
     "execution_count": 130,
     "metadata": {},
     "output_type": "execute_result"
    }
   ],
   "source": [
    "print (\"The pair \", first_term, second_term, \" is most commonly followed by :\\n\")\n",
    "\n",
    "cfd1[(first_term, second_term)]"
   ]
  },
  {
   "cell_type": "markdown",
   "metadata": {},
   "source": [
    "### Reversed conditional frequency, i.e. if second word in sequence known but not first"
   ]
  },
  {
   "cell_type": "markdown",
   "metadata": {},
   "source": [
    "*Meta-Corpus*"
   ]
  },
  {
   "cell_type": "code",
   "execution_count": 140,
   "metadata": {},
   "outputs": [],
   "source": [
    "search_term = \"بخارا\""
   ]
  },
  {
   "cell_type": "code",
   "execution_count": 137,
   "metadata": {},
   "outputs": [],
   "source": [
    "bi0 = nltk.ngrams(raw_doc_toks, 2)\n",
    "bir = [(b, a) for (a, b) in bi0]\n",
    "cfdr = nltk.ConditionalFreqDist(bir)"
   ]
  },
  {
   "cell_type": "code",
   "execution_count": 141,
   "metadata": {},
   "outputs": [
    {
     "name": "stdout",
     "output_type": "stream",
     "text": [
      "The term  بخارا  is most commonly preceded by:\n",
      "\n"
     ]
    },
    {
     "data": {
      "text/plain": [
       "[('بدرون', 7),\n",
       " ('در', 5),\n",
       " ('شهر', 3),\n",
       " ('اعلم', 3),\n",
       " ('امیر', 2),\n",
       " ('انقلاب', 1),\n",
       " ('به', 1),\n",
       " ('ایلچی', 1),\n",
       " ('فاخره', 1),\n",
       " ('صدارت', 1),\n",
       " ('ممالک', 1),\n",
       " ('پادشاهان', 1),\n",
       " ('امیران', 1),\n",
       " ('بازار', 1),\n",
       " ('های', 1)]"
      ]
     },
     "execution_count": 141,
     "metadata": {},
     "output_type": "execute_result"
    }
   ],
   "source": [
    "print (\"The term \", search_term, \" is most commonly preceded by:\\n\")\n",
    "\n",
    "cfdr[search_term].most_common(15)"
   ]
  },
  {
   "cell_type": "code",
   "execution_count": null,
   "metadata": {},
   "outputs": [],
   "source": []
  }
 ],
 "metadata": {
  "kernelspec": {
   "display_name": "Python 3",
   "language": "python",
   "name": "python3"
  },
  "language_info": {
   "codemirror_mode": {
    "name": "ipython",
    "version": 3
   },
   "file_extension": ".py",
   "mimetype": "text/x-python",
   "name": "python",
   "nbconvert_exporter": "python",
   "pygments_lexer": "ipython3",
   "version": "3.7.4"
  }
 },
 "nbformat": 4,
 "nbformat_minor": 4
}
