{
 "cells": [
  {
   "cell_type": "markdown",
   "id": "de196cbe",
   "metadata": {},
   "source": [
    "# Comparing Verb Forms in Modern Tajik (Newspaper Corpus) with Bukhari Persian"
   ]
  },
  {
   "cell_type": "code",
   "execution_count": 2,
   "id": "c71aef1d",
   "metadata": {},
   "outputs": [],
   "source": [
    "import os\n",
    "import pandas as pd"
   ]
  },
  {
   "cell_type": "markdown",
   "id": "78695319",
   "metadata": {},
   "source": [
    "Reading in data"
   ]
  },
  {
   "cell_type": "code",
   "execution_count": 3,
   "id": "0af297b5",
   "metadata": {},
   "outputs": [],
   "source": [
    "#set home directory path\n",
    "hdir = os.path.expanduser('~')\n",
    "\n",
    "# Tajik corpus directory\n",
    "taj_path = os.path.join(hdir, \"Dropbox/Active_Directories/Digital_Humanities/Corpora/tajik_newspaper_corpus\")\n"
   ]
  },
  {
   "cell_type": "code",
   "execution_count": 5,
   "id": "0ef43c61",
   "metadata": {},
   "outputs": [],
   "source": [
    "# List to hold data\n",
    "data = []\n",
    "\n",
    "# Walk through the directory structure\n",
    "for subdir, dirs, files in os.walk(taj_path):\n",
    "    for file in files:\n",
    "        if file.endswith('.txt'):\n",
    "            file_path = os.path.join(subdir, file)\n",
    "            with open(file_path, 'r', encoding='utf-8') as f:\n",
    "                content = f.read()\n",
    "            subdir_name = os.path.basename(subdir)\n",
    "            data.append({'sub_directory': subdir_name, 'filename': file, 'content': content})\n",
    "\n",
    "# Create a DataFrame\n",
    "df = pd.DataFrame(data)"
   ]
  },
  {
   "cell_type": "code",
   "execution_count": 36,
   "id": "b955566a",
   "metadata": {},
   "outputs": [
    {
     "data": {
      "text/plain": [
       "141572"
      ]
     },
     "execution_count": 36,
     "metadata": {},
     "output_type": "execute_result"
    }
   ],
   "source": [
    "# Total number of Tajik newspaper articles\n",
    "len(df)"
   ]
  },
  {
   "cell_type": "code",
   "execution_count": 37,
   "id": "49c740e9",
   "metadata": {},
   "outputs": [],
   "source": [
    "#df.sample(5)"
   ]
  },
  {
   "cell_type": "markdown",
   "id": "1198cf1e",
   "metadata": {},
   "source": [
    "### Regex search pattern for Tajik newspapers\n",
    "\n",
    "`ме` marks the beginning of the participle (unlike می in Persian, there it is always attached to the verb without a space); then comes the verb participle; which ends with `дагӣ`.  "
   ]
  },
  {
   "cell_type": "code",
   "execution_count": 38,
   "id": "0fcc37c0",
   "metadata": {},
   "outputs": [],
   "source": [
    "taj_medagi_pattern = r'\\Sи\\sме[^ ]*?дагӣ\\s'"
   ]
  },
  {
   "cell_type": "code",
   "execution_count": 39,
   "id": "f82f6c25",
   "metadata": {},
   "outputs": [],
   "source": [
    "# Filter the DataFrame and select only rows where 'content' column matches the pattern\n",
    "filtered_df = df[df['content'].str.contains(taj_medagi_pattern, regex=True, na=False)]\n",
    "\n",
    "# Keep only the columns where 'content' column matches the pattern\n",
    "filtered_df = filtered_df[['sub_directory', 'filename', 'content']]\n"
   ]
  },
  {
   "cell_type": "code",
   "execution_count": 40,
   "id": "84fa3621",
   "metadata": {},
   "outputs": [
    {
     "data": {
      "text/plain": [
       "16"
      ]
     },
     "execution_count": 40,
     "metadata": {},
     "output_type": "execute_result"
    }
   ],
   "source": [
    "len(filtered_df)"
   ]
  },
  {
   "cell_type": "code",
   "execution_count": 41,
   "id": "1e89f213",
   "metadata": {
    "scrolled": true
   },
   "outputs": [
    {
     "data": {
      "text/html": [
       "<div>\n",
       "<style scoped>\n",
       "    .dataframe tbody tr th:only-of-type {\n",
       "        vertical-align: middle;\n",
       "    }\n",
       "\n",
       "    .dataframe tbody tr th {\n",
       "        vertical-align: top;\n",
       "    }\n",
       "\n",
       "    .dataframe thead th {\n",
       "        text-align: right;\n",
       "    }\n",
       "</style>\n",
       "<table border=\"1\" class=\"dataframe\">\n",
       "  <thead>\n",
       "    <tr style=\"text-align: right;\">\n",
       "      <th></th>\n",
       "      <th>sub_directory</th>\n",
       "      <th>filename</th>\n",
       "      <th>content</th>\n",
       "    </tr>\n",
       "  </thead>\n",
       "  <tbody>\n",
       "    <tr>\n",
       "      <th>73231</th>\n",
       "      <td>Pressa.tj</td>\n",
       "      <td>pressatj_07.10.2022_7.txt</td>\n",
       "      <td>Александра Кудашкина ва Николай Назриев — ду с...</td>\n",
       "    </tr>\n",
       "    <tr>\n",
       "      <th>77358</th>\n",
       "      <td>Pressa.tj</td>\n",
       "      <td>pressatj_14.01.2020_0.txt</td>\n",
       "      <td>Аброри Зоҳир пурмаҳсултарин нависандаи тоҷик а...</td>\n",
       "    </tr>\n",
       "    <tr>\n",
       "      <th>75968</th>\n",
       "      <td>Pressa.tj</td>\n",
       "      <td>pressatj_06.06.2022_1036.txt</td>\n",
       "      <td>Олимони иқлимшиноси (климатологи)  аврупоӣ ҳам...</td>\n",
       "    </tr>\n",
       "    <tr>\n",
       "      <th>101747</th>\n",
       "      <td>Farazh</td>\n",
       "      <td>farazh_2019-07-27-2.txt</td>\n",
       "      <td>Баъзан мо аз ғояти нодониву ҷоҳилӣ бо ғаму шик...</td>\n",
       "    </tr>\n",
       "    <tr>\n",
       "      <th>83620</th>\n",
       "      <td>Pressa.tj</td>\n",
       "      <td>pressatj_06.06.2022_345.txt</td>\n",
       "      <td>Суҳбат бо Зебунисо Қутбиддинова ҳамсари Шоири ...</td>\n",
       "    </tr>\n",
       "    <tr>\n",
       "      <th>79582</th>\n",
       "      <td>Pressa.tj</td>\n",
       "      <td>pressatj_14.12.2016_9.txt</td>\n",
       "      <td>Салом хонандагон ва аҳли коригарони сомонаи  «...</td>\n",
       "    </tr>\n",
       "    <tr>\n",
       "      <th>58445</th>\n",
       "      <td>Ozodi</td>\n",
       "      <td>ozodi_2009-11-30-2.txt</td>\n",
       "      <td>Албатта, дар гузашта низ блогнависоне гаҳ-гоҳ ...</td>\n",
       "    </tr>\n",
       "    <tr>\n",
       "      <th>61659</th>\n",
       "      <td>Ozodi</td>\n",
       "      <td>ozodi_2010-01-06-3.txt</td>\n",
       "      <td>Ҳамин, гӯед, дар кӯдакиям як латифаеро хонда б...</td>\n",
       "    </tr>\n",
       "    <tr>\n",
       "      <th>93129</th>\n",
       "      <td>Pressa.tj</td>\n",
       "      <td>pressatj_06.06.2022_1271.txt</td>\n",
       "      <td>Хонандагони азиз, тавре ки огоҳӣ доред, ҳафтан...</td>\n",
       "    </tr>\n",
       "    <tr>\n",
       "      <th>719</th>\n",
       "      <td>Oila</td>\n",
       "      <td>oila_2022-12-31-2.txt</td>\n",
       "      <td>Шумо ошиқи сериалҳои туркӣ ҳастед ва ба ишқу м...</td>\n",
       "    </tr>\n",
       "  </tbody>\n",
       "</table>\n",
       "</div>"
      ],
      "text/plain": [
       "       sub_directory                      filename  \\\n",
       "73231      Pressa.tj     pressatj_07.10.2022_7.txt   \n",
       "77358      Pressa.tj     pressatj_14.01.2020_0.txt   \n",
       "75968      Pressa.tj  pressatj_06.06.2022_1036.txt   \n",
       "101747        Farazh       farazh_2019-07-27-2.txt   \n",
       "83620      Pressa.tj   pressatj_06.06.2022_345.txt   \n",
       "79582      Pressa.tj     pressatj_14.12.2016_9.txt   \n",
       "58445          Ozodi        ozodi_2009-11-30-2.txt   \n",
       "61659          Ozodi        ozodi_2010-01-06-3.txt   \n",
       "93129      Pressa.tj  pressatj_06.06.2022_1271.txt   \n",
       "719             Oila         oila_2022-12-31-2.txt   \n",
       "\n",
       "                                                  content  \n",
       "73231   Александра Кудашкина ва Николай Назриев — ду с...  \n",
       "77358   Аброри Зоҳир пурмаҳсултарин нависандаи тоҷик а...  \n",
       "75968   Олимони иқлимшиноси (климатологи)  аврупоӣ ҳам...  \n",
       "101747  Баъзан мо аз ғояти нодониву ҷоҳилӣ бо ғаму шик...  \n",
       "83620   Суҳбат бо Зебунисо Қутбиддинова ҳамсари Шоири ...  \n",
       "79582   Салом хонандагон ва аҳли коригарони сомонаи  «...  \n",
       "58445   Албатта, дар гузашта низ блогнависоне гаҳ-гоҳ ...  \n",
       "61659   Ҳамин, гӯед, дар кӯдакиям як латифаеро хонда б...  \n",
       "93129   Хонандагони азиз, тавре ки огоҳӣ доред, ҳафтан...  \n",
       "719     Шумо ошиқи сериалҳои туркӣ ҳастед ва ба ишқу м...  "
      ]
     },
     "execution_count": 41,
     "metadata": {},
     "output_type": "execute_result"
    }
   ],
   "source": [
    "filtered_df.sample(10)"
   ]
  },
  {
   "cell_type": "code",
   "execution_count": 31,
   "id": "59917326",
   "metadata": {},
   "outputs": [],
   "source": [
    "pickle_path = hdir + \"/Dropbox/Active_Directories/Digital_Humanities/Corpora/pickled_tokenized_cleaned_corpora\"\n",
    "\n",
    "df_eurcorp = pd.read_csv (os.path.join(pickle_path,r'eurasia_corpus.csv'))"
   ]
  },
  {
   "cell_type": "code",
   "execution_count": 32,
   "id": "7ad61fff",
   "metadata": {
    "scrolled": true
   },
   "outputs": [
    {
     "data": {
      "text/html": [
       "<div>\n",
       "<style scoped>\n",
       "    .dataframe tbody tr th:only-of-type {\n",
       "        vertical-align: middle;\n",
       "    }\n",
       "\n",
       "    .dataframe tbody tr th {\n",
       "        vertical-align: top;\n",
       "    }\n",
       "\n",
       "    .dataframe thead th {\n",
       "        text-align: right;\n",
       "    }\n",
       "</style>\n",
       "<table border=\"1\" class=\"dataframe\">\n",
       "  <thead>\n",
       "    <tr style=\"text-align: right;\">\n",
       "      <th></th>\n",
       "      <th>Category</th>\n",
       "      <th>Text</th>\n",
       "      <th>No</th>\n",
       "      <th>Token</th>\n",
       "    </tr>\n",
       "  </thead>\n",
       "  <tbody>\n",
       "    <tr>\n",
       "      <th>3555209</th>\n",
       "      <td>khiva_doc_toks</td>\n",
       "      <td>MIRZAEV_JULY_2016</td>\n",
       "      <td>3059</td>\n",
       "      <td>قطعه</td>\n",
       "    </tr>\n",
       "    <tr>\n",
       "      <th>9162340</th>\n",
       "      <td>pers_lit_toks</td>\n",
       "      <td>gorgani.veysoramin</td>\n",
       "      <td>69511</td>\n",
       "      <td>مشکبارش</td>\n",
       "    </tr>\n",
       "    <tr>\n",
       "      <th>13285183</th>\n",
       "      <td>pers_lit_toks</td>\n",
       "      <td>ouhadi.jaamejam</td>\n",
       "      <td>36626</td>\n",
       "      <td>مردان</td>\n",
       "    </tr>\n",
       "    <tr>\n",
       "      <th>15901049</th>\n",
       "      <td>pers_lit_toks</td>\n",
       "      <td>saeb.divan</td>\n",
       "      <td>441189</td>\n",
       "      <td>بال</td>\n",
       "    </tr>\n",
       "    <tr>\n",
       "      <th>8708252</th>\n",
       "      <td>pers_lit_toks</td>\n",
       "      <td>forughi.divan</td>\n",
       "      <td>2355</td>\n",
       "      <td>فروغی</td>\n",
       "    </tr>\n",
       "  </tbody>\n",
       "</table>\n",
       "</div>"
      ],
      "text/plain": [
       "                Category                Text      No    Token\n",
       "3555209   khiva_doc_toks   MIRZAEV_JULY_2016    3059     قطعه\n",
       "9162340    pers_lit_toks  gorgani.veysoramin   69511  مشکبارش\n",
       "13285183   pers_lit_toks     ouhadi.jaamejam   36626    مردان\n",
       "15901049   pers_lit_toks          saeb.divan  441189      بال\n",
       "8708252    pers_lit_toks       forughi.divan    2355    فروغی"
      ]
     },
     "execution_count": 32,
     "metadata": {},
     "output_type": "execute_result"
    }
   ],
   "source": [
    "df_eurcorp.sample(5)"
   ]
  },
  {
   "cell_type": "code",
   "execution_count": 33,
   "id": "dd67cf0b",
   "metadata": {},
   "outputs": [
    {
     "name": "stdout",
     "output_type": "stream",
     "text": [
      "['indo_nar_ext_toks' 'trans_nar_ext_toks' 'khiva_doc_toks'\n",
      " 'oldsys_xml_toks' 'indo_nar' 'trans_xml_toks' 'indo_xml_toks'\n",
      " 'presort_xml_toks' 'md_oldsys_toks' 'pers_lit_toks']\n"
     ]
    }
   ],
   "source": [
    "unique_categories = df_eurcorp['Category'].unique()\n",
    "print(unique_categories)\n"
   ]
  },
  {
   "cell_type": "code",
   "execution_count": 34,
   "id": "1fc7ac9f",
   "metadata": {},
   "outputs": [],
   "source": [
    "categories_to_keep = ['trans_xml_toks', 'presort_xml_toks', 'md_oldsys_toks']\n",
    "trans_docs = df_eurcorp[df_eurcorp['Category'].isin(categories_to_keep)]\n",
    "\n"
   ]
  },
  {
   "cell_type": "code",
   "execution_count": 35,
   "id": "eaf9ea61",
   "metadata": {},
   "outputs": [
    {
     "data": {
      "text/html": [
       "<div>\n",
       "<style scoped>\n",
       "    .dataframe tbody tr th:only-of-type {\n",
       "        vertical-align: middle;\n",
       "    }\n",
       "\n",
       "    .dataframe tbody tr th {\n",
       "        vertical-align: top;\n",
       "    }\n",
       "\n",
       "    .dataframe thead th {\n",
       "        text-align: right;\n",
       "    }\n",
       "</style>\n",
       "<table border=\"1\" class=\"dataframe\">\n",
       "  <thead>\n",
       "    <tr style=\"text-align: right;\">\n",
       "      <th></th>\n",
       "      <th>Category</th>\n",
       "      <th>Text</th>\n",
       "      <th>No</th>\n",
       "      <th>Token</th>\n",
       "    </tr>\n",
       "  </thead>\n",
       "  <tbody>\n",
       "    <tr>\n",
       "      <th>5267546</th>\n",
       "      <td>presort_xml_toks</td>\n",
       "      <td>ser706</td>\n",
       "      <td>2</td>\n",
       "      <td>تصدق</td>\n",
       "    </tr>\n",
       "    <tr>\n",
       "      <th>5261481</th>\n",
       "      <td>presort_xml_toks</td>\n",
       "      <td>ser1006</td>\n",
       "      <td>27</td>\n",
       "      <td>سعادت</td>\n",
       "    </tr>\n",
       "    <tr>\n",
       "      <th>5255325</th>\n",
       "      <td>presort_xml_toks</td>\n",
       "      <td>ser970</td>\n",
       "      <td>96</td>\n",
       "      <td>کرده</td>\n",
       "    </tr>\n",
       "    <tr>\n",
       "      <th>5255773</th>\n",
       "      <td>presort_xml_toks</td>\n",
       "      <td>ser958</td>\n",
       "      <td>271</td>\n",
       "      <td>رضا</td>\n",
       "    </tr>\n",
       "    <tr>\n",
       "      <th>5283215</th>\n",
       "      <td>md_oldsys_toks</td>\n",
       "      <td>tsgaruz_i_323_1_1171_100</td>\n",
       "      <td>116</td>\n",
       "      <td>الی</td>\n",
       "    </tr>\n",
       "  </tbody>\n",
       "</table>\n",
       "</div>"
      ],
      "text/plain": [
       "                 Category                      Text   No  Token\n",
       "5267546  presort_xml_toks                    ser706    2   تصدق\n",
       "5261481  presort_xml_toks                   ser1006   27  سعادت\n",
       "5255325  presort_xml_toks                    ser970   96   کرده\n",
       "5255773  presort_xml_toks                    ser958  271    رضا\n",
       "5283215    md_oldsys_toks  tsgaruz_i_323_1_1171_100  116    الی"
      ]
     },
     "execution_count": 35,
     "metadata": {},
     "output_type": "execute_result"
    }
   ],
   "source": [
    "trans_docs.sample(5)"
   ]
  },
  {
   "cell_type": "code",
   "execution_count": null,
   "id": "679823d7",
   "metadata": {},
   "outputs": [],
   "source": [
    "сози мекардаги\n",
    "ساز می کرده گی\n",
    "\n",
    "# regex: limit the length that the word can be so that you don't get the whole document, maybe 20 character limit on stuff that is not dagi\n",
    "\n",
    "# state that they are (or are not) comparable in terms of length"
   ]
  }
 ],
 "metadata": {
  "kernelspec": {
   "display_name": "Python 3 (ipykernel)",
   "language": "python",
   "name": "python3"
  },
  "language_info": {
   "codemirror_mode": {
    "name": "ipython",
    "version": 3
   },
   "file_extension": ".py",
   "mimetype": "text/x-python",
   "name": "python",
   "nbconvert_exporter": "python",
   "pygments_lexer": "ipython3",
   "version": "3.9.7"
  }
 },
 "nbformat": 4,
 "nbformat_minor": 5
}
