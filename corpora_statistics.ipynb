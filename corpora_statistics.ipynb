{
 "cells": [
  {
   "cell_type": "markdown",
   "metadata": {},
   "source": [
    "# Corpora Statistics"
   ]
  },
  {
   "cell_type": "code",
   "execution_count": 1,
   "metadata": {},
   "outputs": [],
   "source": [
    "import pickle, nltk"
   ]
  },
  {
   "cell_type": "code",
   "execution_count": 2,
   "metadata": {},
   "outputs": [],
   "source": [
    "with open(\"pickled_refined_data/raw_tokens.pkl\", \"rb\") as f:\n",
    "    doc_toks, hist_toks, lit_toks, combined_toks = pickle.load(f)"
   ]
  },
  {
   "cell_type": "markdown",
   "metadata": {},
   "source": [
    "## Frequency Distribution"
   ]
  },
  {
   "cell_type": "markdown",
   "metadata": {},
   "source": [
    "### Historical Texts"
   ]
  },
  {
   "cell_type": "code",
   "execution_count": 11,
   "metadata": {
    "scrolled": true
   },
   "outputs": [
    {
     "name": "stdout",
     "output_type": "stream",
     "text": [
      "Average word frequency:  39.70049840345937\n"
     ]
    }
   ],
   "source": [
    "combo_freq = nltk.FreqDist(hist_toks)\n",
    "\n",
    "av_freq = sum(combo_freq.values())/len(combo_freq)\n",
    "print (\"Average word frequency: \", av_freq)"
   ]
  },
  {
   "cell_type": "code",
   "execution_count": 12,
   "metadata": {},
   "outputs": [
    {
     "data": {
      "text/plain": [
       "[('فرمانروایان', 110),\n",
       " ('پادشاهزادگی', 78),\n",
       " ('فرمانبرداری', 58),\n",
       " ('جایگیرداران', 38),\n",
       " ('جهانگیرنامه', 37),\n",
       " ('بدارالخلافه', 37),\n",
       " ('بپادشاهزاده', 34),\n",
       " ('خوشامدگویان', 33),\n",
       " ('جهانگیرآباد', 29),\n",
       " ('پراکندگیهای', 27)]"
      ]
     },
     "execution_count": 12,
     "metadata": {},
     "output_type": "execute_result"
    }
   ],
   "source": [
    "long_toks = [x for x in hist_toks if len(x)>10]\n",
    "long_freq = nltk.FreqDist(long_toks)\n",
    "long_freq.most_common(10)"
   ]
  },
  {
   "cell_type": "markdown",
   "metadata": {},
   "source": [
    "### Persian Literature"
   ]
  },
  {
   "cell_type": "code",
   "execution_count": 4,
   "metadata": {},
   "outputs": [
    {
     "data": {
      "text/plain": [
       "[('ابوعبدالرحمان', 4),\n",
       " ('امیرالمویمنین', 3),\n",
       " ('ازخورشیدعالمتاب', 2),\n",
       " ('استجیبواللرسول', 2),\n",
       " ('اقتلوالمشرکین', 2),\n",
       " ('اعتبارالاعتبار', 2),\n",
       " ('ذوالفقاراندیش', 2),\n",
       " ('نفدالصبرالتقی', 2),\n",
       " ('وزیرالوزراییست', 2),\n",
       " ('اعتمادالدولتش', 2)]"
      ]
     },
     "execution_count": 4,
     "metadata": {},
     "output_type": "execute_result"
    }
   ],
   "source": [
    "long_toks = [x for x in lit_toks if len(x)>12]\n",
    "long_freq = nltk.FreqDist(long_toks)\n",
    "long_freq.most_common(10)"
   ]
  },
  {
   "cell_type": "markdown",
   "metadata": {},
   "source": [
    "# N-Grams"
   ]
  },
  {
   "cell_type": "markdown",
   "metadata": {},
   "source": [
    "### Document Corpus"
   ]
  },
  {
   "cell_type": "code",
   "execution_count": 5,
   "metadata": {},
   "outputs": [
    {
     "data": {
      "text/plain": [
       "[(('بعد', 'از'), 55),\n",
       " (('از', 'ان'), 32),\n",
       " (('الله', 'تعالی'), 16),\n",
       " (('در', 'ایام'), 16),\n",
       " (('التقصیر', 'التقصیر'), 15),\n",
       " (('میکنند', 'و'), 14),\n",
       " (('و', 'بعد'), 14),\n",
       " (('عبد', 'الاحد'), 14),\n",
       " (('تصدق', 'شوم'), 13),\n",
       " (('که', 'از'), 11)]"
      ]
     },
     "execution_count": 5,
     "metadata": {},
     "output_type": "execute_result"
    }
   ],
   "source": [
    "bigrams = nltk.ngrams(doc_toks, 2)\n",
    "bi_freq = nltk.FreqDist(bigrams)\n",
    "bi_freq.most_common(10)\n"
   ]
  },
  {
   "cell_type": "code",
   "execution_count": 40,
   "metadata": {},
   "outputs": [
    {
     "data": {
      "text/plain": [
       "[(('بذکره', 'الاعلی', 'ما', 'قول', 'ایمه'), 10),\n",
       " (('الاعلی', 'ما', 'قول', 'ایمه', 'الاسلام'), 10),\n",
       " (('ما', 'قول', 'ایمه', 'الاسلام', 'رضی'), 10),\n",
       " (('قول', 'ایمه', 'الاسلام', 'رضی', 'الله'), 10),\n",
       " (('ایمه', 'الاسلام', 'رضی', 'الله', 'تعالی'), 10),\n",
       " (('الاسلام', 'رضی', 'الله', 'تعالی', 'عنهم'), 10),\n",
       " (('التقصیر', 'التقصیر', 'التقصیر', 'التقصیر', 'التقصیر'), 9),\n",
       " (('و', 'بعد', 'از', 'ان', 'شروع'), 9)]"
      ]
     },
     "execution_count": 40,
     "metadata": {},
     "output_type": "execute_result"
    }
   ],
   "source": [
    "muchos_grams = nltk.ngrams(doc_toks, 5)\n",
    "muchos_freq = nltk.FreqDist(muchos_grams)\n",
    "muchos_freq.most_common(8)"
   ]
  },
  {
   "cell_type": "code",
   "execution_count": 44,
   "metadata": {},
   "outputs": [],
   "source": [
    "lmf = list(muchos_freq.most_common(5))"
   ]
  },
  {
   "cell_type": "code",
   "execution_count": 45,
   "metadata": {},
   "outputs": [
    {
     "data": {
      "text/plain": [
       "[(('بذکره', 'الاعلی', 'ما', 'قول', 'ایمه'), 10),\n",
       " (('الاعلی', 'ما', 'قول', 'ایمه', 'الاسلام'), 10),\n",
       " (('ما', 'قول', 'ایمه', 'الاسلام', 'رضی'), 10),\n",
       " (('قول', 'ایمه', 'الاسلام', 'رضی', 'الله'), 10),\n",
       " (('ایمه', 'الاسلام', 'رضی', 'الله', 'تعالی'), 10)]"
      ]
     },
     "execution_count": 45,
     "metadata": {},
     "output_type": "execute_result"
    }
   ],
   "source": [
    "lmf"
   ]
  },
  {
   "cell_type": "code",
   "execution_count": 46,
   "metadata": {},
   "outputs": [
    {
     "ename": "TypeError",
     "evalue": "argument of type 'int' is not iterable",
     "output_type": "error",
     "traceback": [
      "\u001b[0;31m---------------------------------------------------------------------------\u001b[0m",
      "\u001b[0;31mTypeError\u001b[0m                                 Traceback (most recent call last)",
      "\u001b[0;32m<ipython-input-46-c402361a5ec8>\u001b[0m in \u001b[0;36m<module>\u001b[0;34m()\u001b[0m\n\u001b[0;32m----> 1\u001b[0;31m \u001b[0;34m[\u001b[0m\u001b[0mx\u001b[0m \u001b[0;32mfor\u001b[0m \u001b[0mx\u001b[0m\u001b[0;34m,\u001b[0m\u001b[0my\u001b[0m \u001b[0;32min\u001b[0m \u001b[0mlmf\u001b[0m \u001b[0;32mif\u001b[0m \u001b[0;34m\"از\"\u001b[0m \u001b[0;32min\u001b[0m \u001b[0my\u001b[0m\u001b[0;34m]\u001b[0m\u001b[0;34m\u001b[0m\u001b[0m\n\u001b[0m",
      "\u001b[0;32m<ipython-input-46-c402361a5ec8>\u001b[0m in \u001b[0;36m<listcomp>\u001b[0;34m(.0)\u001b[0m\n\u001b[0;32m----> 1\u001b[0;31m \u001b[0;34m[\u001b[0m\u001b[0mx\u001b[0m \u001b[0;32mfor\u001b[0m \u001b[0mx\u001b[0m\u001b[0;34m,\u001b[0m\u001b[0my\u001b[0m \u001b[0;32min\u001b[0m \u001b[0mlmf\u001b[0m \u001b[0;32mif\u001b[0m \u001b[0;34m\"از\"\u001b[0m \u001b[0;32min\u001b[0m \u001b[0my\u001b[0m\u001b[0;34m]\u001b[0m\u001b[0;34m\u001b[0m\u001b[0m\n\u001b[0m",
      "\u001b[0;31mTypeError\u001b[0m: argument of type 'int' is not iterable"
     ]
    }
   ],
   "source": [
    "#Need to review how to do list comprehension over the above kind of list.\n",
    "[x for x,y in lmf if \"از\" in y]"
   ]
  },
  {
   "cell_type": "code",
   "execution_count": null,
   "metadata": {},
   "outputs": [],
   "source": []
  }
 ],
 "metadata": {
  "kernelspec": {
   "display_name": "Python 3",
   "language": "python",
   "name": "python3"
  },
  "language_info": {
   "codemirror_mode": {
    "name": "ipython",
    "version": 3
   },
   "file_extension": ".py",
   "mimetype": "text/x-python",
   "name": "python",
   "nbconvert_exporter": "python",
   "pygments_lexer": "ipython3",
   "version": "3.6.5"
  }
 },
 "nbformat": 4,
 "nbformat_minor": 2
}
