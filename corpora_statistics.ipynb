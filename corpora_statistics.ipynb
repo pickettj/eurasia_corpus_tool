{
 "cells": [
  {
   "cell_type": "markdown",
   "metadata": {},
   "source": [
    "# Corpora Statistics"
   ]
  },
  {
   "cell_type": "code",
   "execution_count": 3,
   "metadata": {},
   "outputs": [],
   "source": [
    "import pickle, nltk, os"
   ]
  },
  {
   "cell_type": "code",
   "execution_count": 4,
   "metadata": {},
   "outputs": [],
   "source": [
    "#set home directory path\n",
    "hdir = os.path.expanduser('~')"
   ]
  },
  {
   "cell_type": "code",
   "execution_count": 5,
   "metadata": {},
   "outputs": [],
   "source": [
    "pickle_path = hdir + \"/Box/Notes/Digital_Humanities/Corpora/pickled_tokenized_cleaned_corpora\""
   ]
  },
  {
   "cell_type": "markdown",
   "metadata": {},
   "source": [
    "Importing Corpora"
   ]
  },
  {
   "cell_type": "code",
   "execution_count": 6,
   "metadata": {},
   "outputs": [],
   "source": [
    "with open(pickle_path + \"/raw_tokens.pkl\", \"rb\") as f:\n",
    "    doc_toks, hist_toks, lit_toks, combined_toks = pickle.load(f)"
   ]
  },
  {
   "cell_type": "code",
   "execution_count": 13,
   "metadata": {},
   "outputs": [
    {
     "ename": "AttributeError",
     "evalue": "'list' object has no attribute 'head'",
     "output_type": "error",
     "traceback": [
      "\u001b[0;31m---------------------------------------------------------------------------\u001b[0m",
      "\u001b[0;31mAttributeError\u001b[0m                            Traceback (most recent call last)",
      "\u001b[0;32m<ipython-input-13-9eed32ca6cf6>\u001b[0m in \u001b[0;36m<module>\u001b[0;34m\u001b[0m\n\u001b[0;32m----> 1\u001b[0;31m \u001b[0mlit_toks\u001b[0m\u001b[0;34m.\u001b[0m\u001b[0mhead\u001b[0m\u001b[0;34m(\u001b[0m\u001b[0;34m)\u001b[0m\u001b[0;34m\u001b[0m\u001b[0;34m\u001b[0m\u001b[0m\n\u001b[0m",
      "\u001b[0;31mAttributeError\u001b[0m: 'list' object has no attribute 'head'"
     ]
    }
   ],
   "source": [
    "lit_toks.head()"
   ]
  },
  {
   "cell_type": "code",
   "execution_count": 7,
   "metadata": {},
   "outputs": [],
   "source": [
    "with open(pickle_path + \"/corpora.pkl\", \"rb\") as f:\n",
    "    unsorted_doc_toks,\\\n",
    "                indo_xml_toks, hyd_xml_toks, trans_xml_toks,\\\n",
    "                trans_nar_toks, indo_nar_toks,\\\n",
    "                trans_nar_ext_toks, indo_nar_ext_toks = pickle.load(f)"
   ]
  },
  {
   "cell_type": "code",
   "execution_count": 8,
   "metadata": {},
   "outputs": [],
   "source": [
    "with open(pickle_path + \"/meta_corpora.pkl\", \"rb\") as f:\n",
    "    comb_india_nar_toks, comb_trans_nar_toks, nar_corpus_toks, doc_corpus_toks,\\\n",
    "                combined_corpus_toks, mega_corpus_toks = pickle.load(f)"
   ]
  },
  {
   "cell_type": "code",
   "execution_count": 9,
   "metadata": {},
   "outputs": [
    {
     "data": {
      "text/plain": [
       "['کیفیت',\n",
       " 'وکیل',\n",
       " 'سرکار',\n",
       " 'عظمت',\n",
       " 'مدار',\n",
       " 'کمپنی',\n",
       " 'شریف',\n",
       " 'بوقت',\n",
       " 'بودن',\n",
       " 'در',\n",
       " 'بلده',\n",
       " 'حیدر',\n",
       " 'آباد',\n",
       " 'احکام',\n",
       " 'روای',\n",
       " 'سرکار',\n",
       " 'ابد',\n",
       " 'پایدار',\n",
       " 'نواب',\n",
       " 'خورشید',\n",
       " 'رکاب',\n",
       " 'معلی',\n",
       " 'الالقاب',\n",
       " 'ص',\n",
       " 'هنری',\n",
       " 'رسل',\n",
       " 'ثابت',\n",
       " 'جنگ',\n",
       " 'بهادر',\n",
       " 'اعتماد',\n",
       " 'الدوله',\n",
       " 'انتظام',\n",
       " 'الملک',\n",
       " 'نایب',\n",
       " 'جانی',\n",
       " 'نشین',\n",
       " 'دربار',\n",
       " 'صوبه',\n",
       " 'دولت',\n",
       " 'مدار',\n",
       " 'صاحب',\n",
       " 'عالیشان',\n",
       " 'از',\n",
       " 'طرف',\n",
       " 'سرکار',\n",
       " 'عظمت',\n",
       " 'مدار',\n",
       " 'انربل',\n",
       " 'انگریز',\n",
       " 'بهادر',\n",
       " 'که',\n",
       " 'بدادرسانی',\n",
       " 'امرا',\n",
       " 'و',\n",
       " 'غربا',\n",
       " 'تا',\n",
       " 'که',\n",
       " 'از',\n",
       " 'مه',\n",
       " 'متوجکی',\n",
       " 'تمام',\n",
       " 'داشته',\n",
       " 'و',\n",
       " 'بدون',\n",
       " 'عدل',\n",
       " 'سخن',\n",
       " 'ظلم',\n",
       " 'گاهی',\n",
       " 'بزبان',\n",
       " 'نیاورده',\n",
       " 'درستگی',\n",
       " 'همگی',\n",
       " 'و',\n",
       " 'تمامی',\n",
       " 'مراتبات',\n",
       " 'بایین',\n",
       " 'بهین',\n",
       " 'ادا',\n",
       " 'نموده',\n",
       " 'تا',\n",
       " 'که',\n",
       " 'آینده',\n",
       " 'هیچکس',\n",
       " 'را',\n",
       " 'جای',\n",
       " 'تردد',\n",
       " 'باقی',\n",
       " 'نخواهد',\n",
       " 'ماند',\n",
       " 'و',\n",
       " 'فیمابین',\n",
       " 'سرکار',\n",
       " 'آصفیه',\n",
       " 'و',\n",
       " 'سرکار',\n",
       " 'عظمت',\n",
       " 'مدار',\n",
       " 'کمپنی',\n",
       " 'انربل',\n",
       " 'انگریز',\n",
       " 'بهادر',\n",
       " 'خرف',\n",
       " 'مغایرت',\n",
       " 'باقی',\n",
       " 'نمانده',\n",
       " 'کسانیکه',\n",
       " 'بدخواهان',\n",
       " 'سرکار',\n",
       " 'ین',\n",
       " 'بود',\n",
       " 'آنرا',\n",
       " 'بزور',\n",
       " 'شمشیر',\n",
       " 'از',\n",
       " 'تعلقه',\n",
       " 'انها',\n",
       " 'کنار',\n",
       " 'دوری',\n",
       " 'بیرون',\n",
       " 'در',\n",
       " 'پای',\n",
       " 'نربدا',\n",
       " 'در',\n",
       " 'اقلیم',\n",
       " 'هندوستان',\n",
       " 'رسانیده',\n",
       " 'تا',\n",
       " 'که',\n",
       " 'اینده',\n",
       " 'هیچ',\n",
       " 'وجه',\n",
       " 'من',\n",
       " 'الوجوه',\n",
       " 'جای',\n",
       " 'خلش',\n",
       " 'نمانده',\n",
       " 'و',\n",
       " 'بتعقلقه',\n",
       " 'آنها',\n",
       " 'کرورها',\n",
       " 'روپیه',\n",
       " 'بلا',\n",
       " 'شرکت',\n",
       " 'غیر',\n",
       " 'گرفته',\n",
       " 'در',\n",
       " 'تصرف',\n",
       " 'سرکار',\n",
       " 'ابد',\n",
       " 'پایدار',\n",
       " 'برای',\n",
       " 'اخراجات',\n",
       " 'فوج',\n",
       " 'ظفر',\n",
       " 'موج',\n",
       " 'تقرر',\n",
       " 'فرموده',\n",
       " 'وقتیکه',\n",
       " 'حکومت',\n",
       " 'پیشکان',\n",
       " 'بنظر',\n",
       " 'متاع',\n",
       " 'گرفتن',\n",
       " 'مساکنان',\n",
       " 'ظلم',\n",
       " 'اختیار',\n",
       " 'کنند',\n",
       " 'از',\n",
       " 'دست',\n",
       " 'انها',\n",
       " 'گرفته',\n",
       " 'کرده',\n",
       " 'دیگر',\n",
       " 'را',\n",
       " 'اعطا',\n",
       " 'کند',\n",
       " 'سبحان',\n",
       " 'الله',\n",
       " 'درین',\n",
       " 'ص',\n",
       " 'ب',\n",
       " 'ایام',\n",
       " 'دوره',\n",
       " 'فلکی',\n",
       " 'از',\n",
       " 'گردش',\n",
       " 'نیرنگی',\n",
       " 'سرنگ',\n",
       " 'گشته',\n",
       " 'و',\n",
       " 'جود',\n",
       " 'و',\n",
       " 'زرا',\n",
       " 'معر',\n",
       " 'ا',\n",
       " 'بزیور',\n",
       " 'لیاقت',\n",
       " 'پیشکاران',\n",
       " 'جوینده',\n",
       " 'حمایت',\n",
       " 'اوقات',\n",
       " 'شبانه',\n",
       " 'روز',\n",
       " 'مصروف',\n",
       " 'خوشامد',\n",
       " 'جریان',\n",
       " 'مصارف',\n",
       " 'در',\n",
       " 'محرر',\n",
       " 'این',\n",
       " 'واقعهه',\n",
       " 'دکن',\n",
       " 'نیز',\n",
       " 'هر',\n",
       " 'جاکه',\n",
       " 'ضرورت',\n",
       " 'داده',\n",
       " 'همان',\n",
       " 'یاد',\n",
       " 'نمود',\n",
       " 'صاحب',\n",
       " 'ان',\n",
       " 'مراد',\n",
       " 'از',\n",
       " 'امیر',\n",
       " 'تیور',\n",
       " 'گورگان',\n",
       " 'فردوس',\n",
       " 'مکانی',\n",
       " 'ایمان',\n",
       " 'بظهیر',\n",
       " 'الدین',\n",
       " 'محمد',\n",
       " 'بابر',\n",
       " 'پادشاه',\n",
       " 'جنت',\n",
       " 'اشیانی',\n",
       " 'نصر',\n",
       " 'الدین',\n",
       " 'محمد',\n",
       " 'همایون',\n",
       " 'عرش',\n",
       " 'اشیانی',\n",
       " 'عبارت',\n",
       " 'از',\n",
       " 'جلال',\n",
       " 'الدین',\n",
       " 'محمد',\n",
       " 'اکبر',\n",
       " 'جنت',\n",
       " 'مکانی',\n",
       " 'لقب',\n",
       " 'نور',\n",
       " 'الدین',\n",
       " 'محمد',\n",
       " 'جهان',\n",
       " 'گیر',\n",
       " 'فردوس',\n",
       " 'اشیانی',\n",
       " 'و',\n",
       " 'اعلا',\n",
       " 'حضرت',\n",
       " 'کیفیت',\n",
       " 'مسلط',\n",
       " 'شدن',\n",
       " 'ناصر',\n",
       " 'جنگ',\n",
       " 'بهادر',\n",
       " 'بتاریخ',\n",
       " 'چهارم',\n",
       " 'شهر',\n",
       " 'جمادی',\n",
       " 'الثانی',\n",
       " 'در',\n",
       " 'سنه',\n",
       " 'هجری',\n",
       " 'بتاریخ',\n",
       " 'هفدهم',\n",
       " 'ماه',\n",
       " 'محرم',\n",
       " 'در',\n",
       " 'سنه',\n",
       " 'هجری',\n",
       " 'بافترای',\n",
       " 'نمک',\n",
       " 'خواهان',\n",
       " 'بمرتبه',\n",
       " 'شهید',\n",
       " 'رسید',\n",
       " 'کیفیت',\n",
       " 'آمدن',\n",
       " 'جنگ',\n",
       " 'دز',\n",
       " 'دهلی',\n",
       " 'بعد',\n",
       " 'رسیدن',\n",
       " 'به',\n",
       " 'مرتبه',\n",
       " 'شهادن',\n",
       " 'نواب',\n",
       " 'ناصر',\n",
       " 'جنگ',\n",
       " 'در',\n",
       " 'دکن',\n",
       " 'بدعای',\n",
       " 'کیفیت',\n",
       " 'آمدن',\n",
       " 'کلاه',\n",
       " 'پوشان',\n",
       " 'فراشین',\n",
       " 'از',\n",
       " 'بذر',\n",
       " 'پ',\n",
       " 'لچری',\n",
       " 'در',\n",
       " 'تعلقه',\n",
       " 'کرنا',\n",
       " 'ک',\n",
       " 'حسب',\n",
       " 'الطلبه',\n",
       " 'چندانیته',\n",
       " 'بعرف',\n",
       " 'حسین',\n",
       " 'دوست',\n",
       " 'خان',\n",
       " 'جاگیردار',\n",
       " 'نیلور',\n",
       " 'که',\n",
       " 'کامل',\n",
       " 'ان',\n",
       " 'چهار',\n",
       " 'یک',\n",
       " 'هون',\n",
       " 'در',\n",
       " 'سند',\n",
       " 'یکهزار',\n",
       " 'و',\n",
       " 'یکصد',\n",
       " 'و',\n",
       " 'شصت',\n",
       " 'و',\n",
       " 'دو',\n",
       " 'هجری',\n",
       " 'نسبت',\n",
       " 'عداوت',\n",
       " 'محمد',\n",
       " 'علیخان',\n",
       " 'والا',\n",
       " 'جاه',\n",
       " 'سبب',\n",
       " 'عداوت',\n",
       " 'محمد',\n",
       " 'علیصاحب',\n",
       " 'محمد',\n",
       " 'علی',\n",
       " 'خان',\n",
       " 'والاه',\n",
       " 'جاه',\n",
       " 'چندانیته',\n",
       " 'این',\n",
       " 'بود',\n",
       " 'که',\n",
       " 'نام',\n",
       " 'برده',\n",
       " 'مذکور',\n",
       " 'ص',\n",
       " 'ب',\n",
       " 'دختر',\n",
       " 'خود',\n",
       " 'نهایت',\n",
       " 'حسین',\n",
       " 'و',\n",
       " 'جیمل',\n",
       " 'میدانسته',\n",
       " 'است']"
      ]
     },
     "execution_count": 9,
     "metadata": {},
     "output_type": "execute_result"
    }
   ],
   "source": [
    "indo_nar_toks[\"husayni_waqay-i_dakkan_ser779\"]"
   ]
  },
  {
   "cell_type": "markdown",
   "metadata": {},
   "source": [
    "Importing Raw Tokens"
   ]
  },
  {
   "cell_type": "code",
   "execution_count": 10,
   "metadata": {},
   "outputs": [],
   "source": [
    "with open(pickle_path + \"/raw_tokens.pkl\", \"rb\") as f:\n",
    "    raw_doc_toks, raw_nar_toks, raw_lit_toks, raw_combo_toks = pickle.load(f)"
   ]
  },
  {
   "cell_type": "code",
   "execution_count": null,
   "metadata": {},
   "outputs": [],
   "source": []
  },
  {
   "cell_type": "markdown",
   "metadata": {},
   "source": [
    "## Frequency Distribution"
   ]
  },
  {
   "cell_type": "markdown",
   "metadata": {},
   "source": [
    "### Historical Texts"
   ]
  },
  {
   "cell_type": "code",
   "execution_count": 10,
   "metadata": {
    "scrolled": true
   },
   "outputs": [
    {
     "name": "stdout",
     "output_type": "stream",
     "text": [
      "Average word frequency:  39.81356877543997\n"
     ]
    }
   ],
   "source": [
    "combo_freq = nltk.FreqDist(hist_toks)\n",
    "\n",
    "av_freq = sum(combo_freq.values())/len(combo_freq)\n",
    "print (\"Average word frequency: \", av_freq)"
   ]
  },
  {
   "cell_type": "code",
   "execution_count": 11,
   "metadata": {},
   "outputs": [
    {
     "data": {
      "text/plain": [
       "[('جنابعالیحضرتم', 6),\n",
       " ('اجمعینتیمنا', 5),\n",
       " ('جنابعالیمولایم', 4),\n",
       " ('جنابعالیحضرت', 4),\n",
       " ('وزارتپناهان', 2),\n",
       " ('امانخانمرحوم', 2),\n",
       " ('متعالیدرجات', 2),\n",
       " ('ذاتعالیمولایم', 1),\n",
       " ('عالیحضرتمولایم', 1),\n",
       " ('خدمتکارانشان', 1)]"
      ]
     },
     "execution_count": 11,
     "metadata": {},
     "output_type": "execute_result"
    }
   ],
   "source": [
    "long_toks = [x for x in raw_doc_toks if len(x)>10]\n",
    "long_freq = nltk.FreqDist(long_toks)\n",
    "long_freq.most_common(10)"
   ]
  },
  {
   "cell_type": "markdown",
   "metadata": {},
   "source": [
    "### Persian Literature"
   ]
  },
  {
   "cell_type": "code",
   "execution_count": 11,
   "metadata": {},
   "outputs": [
    {
     "data": {
      "text/plain": [
       "[('خورشید', 10004),\n",
       " ('خویشتن', 5531),\n",
       " ('روزگار', 4897),\n",
       " ('اندیشه', 4625),\n",
       " ('عاشقان', 3780),\n",
       " ('افتاده', 3492),\n",
       " ('شهریار', 3050),\n",
       " ('دیوانه', 3009),\n",
       " ('خداوند', 2818),\n",
       " ('هزاران', 2640)]"
      ]
     },
     "execution_count": 11,
     "metadata": {},
     "output_type": "execute_result"
    }
   ],
   "source": [
    "long_toks = [x for x in lit_toks if len(x)>5]\n",
    "long_freq = nltk.FreqDist(long_toks)\n",
    "long_freq.most_common(10)"
   ]
  },
  {
   "cell_type": "markdown",
   "metadata": {},
   "source": [
    "# N-Grams"
   ]
  },
  {
   "cell_type": "markdown",
   "metadata": {},
   "source": [
    "### Document Corpus"
   ]
  },
  {
   "cell_type": "code",
   "execution_count": 13,
   "metadata": {},
   "outputs": [
    {
     "data": {
      "text/plain": [
       "[(('بعد', 'از'), 70),\n",
       " (('از', 'روی'), 45),\n",
       " (('است', 'که'), 37),\n",
       " (('از', 'ان'), 37),\n",
       " (('بوده', 'است'), 33),\n",
       " (('بنده', 'گی'), 32),\n",
       " (('بنده', 'نوازا'), 31),\n",
       " (('عرض', 'بنده'), 31),\n",
       " (('الله', 'تعالی'), 28),\n",
       " (('که', 'از'), 28)]"
      ]
     },
     "execution_count": 13,
     "metadata": {},
     "output_type": "execute_result"
    }
   ],
   "source": [
    "bigrams = nltk.ngrams(doc_toks, 2)\n",
    "bi_freq = nltk.FreqDist(bigrams)\n",
    "bi_freq.most_common(10)\n"
   ]
  },
  {
   "cell_type": "code",
   "execution_count": 17,
   "metadata": {},
   "outputs": [
    {
     "data": {
      "text/plain": [
       "[(('التقصیر', 'التقصیر', 'التقصیر', 'التقصیر', 'التقصیر'), 27),\n",
       " (('دولت', 'آباد', 'صوبه', 'خجسته', 'بنیاد'), 17),\n",
       " (('سرکار', 'دولت', 'آباد', 'صوبه', 'خجسته'), 15),\n",
       " (('بذکره', 'الاعلی', 'ما', 'قول', 'ایمه'), 10),\n",
       " (('الاعلی', 'ما', 'قول', 'ایمه', 'الاسلام'), 10),\n",
       " (('ما', 'قول', 'ایمه', 'الاسلام', 'رضی'), 10),\n",
       " (('قول', 'ایمه', 'الاسلام', 'رضی', 'الله'), 10),\n",
       " (('ایمه', 'الاسلام', 'رضی', 'الله', 'تعالی'), 10)]"
      ]
     },
     "execution_count": 17,
     "metadata": {},
     "output_type": "execute_result"
    }
   ],
   "source": [
    "muchos_grams = nltk.ngrams(doc_toks, 5)\n",
    "muchos_freq = nltk.FreqDist(muchos_grams)\n",
    "muchos_freq.most_common(8)"
   ]
  },
  {
   "cell_type": "code",
   "execution_count": 16,
   "metadata": {},
   "outputs": [
    {
     "ename": "NameError",
     "evalue": "name 'muchos_freq' is not defined",
     "output_type": "error",
     "traceback": [
      "\u001b[0;31m---------------------------------------------------------------------------\u001b[0m",
      "\u001b[0;31mNameError\u001b[0m                                 Traceback (most recent call last)",
      "\u001b[0;32m<ipython-input-16-9d82098f1fe2>\u001b[0m in \u001b[0;36m<module>\u001b[0;34m\u001b[0m\n\u001b[0;32m----> 1\u001b[0;31m \u001b[0mlmf\u001b[0m \u001b[0;34m=\u001b[0m \u001b[0mlist\u001b[0m\u001b[0;34m(\u001b[0m\u001b[0mmuchos_freq\u001b[0m\u001b[0;34m.\u001b[0m\u001b[0mmost_common\u001b[0m\u001b[0;34m(\u001b[0m\u001b[0;36m100\u001b[0m\u001b[0;34m)\u001b[0m\u001b[0;34m)\u001b[0m\u001b[0;34m\u001b[0m\u001b[0;34m\u001b[0m\u001b[0m\n\u001b[0m",
      "\u001b[0;31mNameError\u001b[0m: name 'muchos_freq' is not defined"
     ]
    }
   ],
   "source": [
    "lmf = list(muchos_freq.most_common(100))"
   ]
  },
  {
   "cell_type": "code",
   "execution_count": 45,
   "metadata": {},
   "outputs": [
    {
     "data": {
      "text/plain": [
       "[(('بذکره', 'الاعلی', 'ما', 'قول', 'ایمه'), 10),\n",
       " (('الاعلی', 'ما', 'قول', 'ایمه', 'الاسلام'), 10),\n",
       " (('ما', 'قول', 'ایمه', 'الاسلام', 'رضی'), 10),\n",
       " (('قول', 'ایمه', 'الاسلام', 'رضی', 'الله'), 10),\n",
       " (('ایمه', 'الاسلام', 'رضی', 'الله', 'تعالی'), 10)]"
      ]
     },
     "execution_count": 45,
     "metadata": {},
     "output_type": "execute_result"
    }
   ],
   "source": [
    "lmf"
   ]
  },
  {
   "cell_type": "code",
   "execution_count": 15,
   "metadata": {},
   "outputs": [
    {
     "ename": "NameError",
     "evalue": "name 'lmf' is not defined",
     "output_type": "error",
     "traceback": [
      "\u001b[0;31m---------------------------------------------------------------------------\u001b[0m",
      "\u001b[0;31mNameError\u001b[0m                                 Traceback (most recent call last)",
      "\u001b[0;32m<ipython-input-15-26841daa5039>\u001b[0m in \u001b[0;36m<module>\u001b[0;34m\u001b[0m\n\u001b[1;32m      1\u001b[0m \u001b[0;31m#Need to review how to do list comprehension over the above kind of list.\u001b[0m\u001b[0;34m\u001b[0m\u001b[0;34m\u001b[0m\u001b[0;34m\u001b[0m\u001b[0m\n\u001b[0;32m----> 2\u001b[0;31m \u001b[0;34m[\u001b[0m\u001b[0;34m(\u001b[0m\u001b[0mx\u001b[0m\u001b[0;34m,\u001b[0m\u001b[0my\u001b[0m\u001b[0;34m)\u001b[0m \u001b[0;32mfor\u001b[0m \u001b[0;34m(\u001b[0m\u001b[0mx\u001b[0m\u001b[0;34m,\u001b[0m\u001b[0my\u001b[0m\u001b[0;34m)\u001b[0m \u001b[0;32min\u001b[0m \u001b[0mlmf\u001b[0m \u001b[0;32mif\u001b[0m \u001b[0;34m\"از\"\u001b[0m \u001b[0;32min\u001b[0m \u001b[0mx\u001b[0m\u001b[0;34m]\u001b[0m\u001b[0;34m\u001b[0m\u001b[0;34m\u001b[0m\u001b[0m\n\u001b[0m",
      "\u001b[0;31mNameError\u001b[0m: name 'lmf' is not defined"
     ]
    }
   ],
   "source": [
    "#Need to review how to do list comprehension over the above kind of list.\n",
    "[(x,y) for (x,y) in lmf if \"از\" in x]"
   ]
  },
  {
   "cell_type": "code",
   "execution_count": null,
   "metadata": {},
   "outputs": [],
   "source": []
  }
 ],
 "metadata": {
  "kernelspec": {
   "display_name": "Python 3",
   "language": "python",
   "name": "python3"
  },
  "language_info": {
   "codemirror_mode": {
    "name": "ipython",
    "version": 3
   },
   "file_extension": ".py",
   "mimetype": "text/x-python",
   "name": "python",
   "nbconvert_exporter": "python",
   "pygments_lexer": "ipython3",
   "version": "3.7.4"
  }
 },
 "nbformat": 4,
 "nbformat_minor": 2
}
