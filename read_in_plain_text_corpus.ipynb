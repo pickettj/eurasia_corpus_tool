{
 "cells": [
  {
   "cell_type": "markdown",
   "metadata": {},
   "source": [
    "# Corpora Cleaning, Tokenizing, Pickling"
   ]
  },
  {
   "cell_type": "markdown",
   "metadata": {},
   "source": [
    "### Libraries"
   ]
  },
  {
   "cell_type": "code",
   "execution_count": 61,
   "metadata": {},
   "outputs": [],
   "source": [
    "import pandas as pd\n",
    "import arabic_cleaning as ac\n",
    "import os, re\n",
    "import xml.etree.ElementTree as ET\n",
    "from datetime import datetime\n",
    "\n"
   ]
  },
  {
   "cell_type": "code",
   "execution_count": 21,
   "metadata": {},
   "outputs": [],
   "source": [
    "#import nltk, glob, os, pickle"
   ]
  },
  {
   "cell_type": "markdown",
   "metadata": {},
   "source": [
    "### Paths"
   ]
  },
  {
   "cell_type": "markdown",
   "metadata": {},
   "source": [
    "Home Directory"
   ]
  },
  {
   "cell_type": "code",
   "execution_count": 24,
   "metadata": {},
   "outputs": [],
   "source": [
    "#set home directory path\n",
    "hdir = os.path.expanduser('~')\n",
    "\n",
    "#inbox path for reports\n",
    "inbox_path = hdir + \"/Dropbox/Active_Directories/Inbox\"\n",
    "\n",
    "\n",
    "#external relative path\n",
    "ext_corp_path = hdir + \"/Dropbox/Active_Directories/Digital_Humanities/Corpora\"\n",
    "\n",
    "#internal relative path\n",
    "int_corp_path = hdir + \"/Dropbox/Active_Directories/Notes/Primary_Sources\"\n",
    "\n",
    "#pickle path\n",
    "pickle_path = hdir + \"/Dropbox/Active_Directories/Digital_Humanities/Corpora/pickled_tokenized_cleaned_corpora\""
   ]
  },
  {
   "cell_type": "markdown",
   "metadata": {},
   "source": [
    "##### Pre-existing Corpora"
   ]
  },
  {
   "cell_type": "code",
   "execution_count": 26,
   "metadata": {},
   "outputs": [],
   "source": [
    "# Indic Narrative\n",
    "indo_path = ext_corp_path + \"/indo-persian_corpora\"\n",
    "\n",
    "# Transoxania Narrative (Persian)\n",
    "trans_path = ext_corp_path + \"/machine_readable_persian_transoxania_texts\"\n",
    "\n",
    "# Khiva documents\n",
    "khiva_path = ext_corp_path + \"/khiva_khanate_chancery_corpus\"\n",
    "\n",
    "# Muscovite Persian diplomatic documents\n",
    "musc_path = ext_corp_path + \"/khorezm_muscovy_diplomatic\"\n",
    "\n",
    "# Persian Lit\n",
    "perslit_path = ext_corp_path + \"/pickled_tokenized_cleaned_corpora\"\n",
    "\n",
    "# Turkic Narrative sources\n",
    "turk_path = ext_corp_path + \"/turkic_corpora\""
   ]
  },
  {
   "cell_type": "markdown",
   "metadata": {},
   "source": [
    "##### Self-created Corpora"
   ]
  },
  {
   "cell_type": "code",
   "execution_count": 28,
   "metadata": {},
   "outputs": [],
   "source": [
    "# Transoxania Non-Machine-Readable Notes\n",
    "trans_notes = int_corp_path + \"/non-machine-readable_notes/transoxania_notes\"\n",
    "\n",
    "# Indian Narrative\n",
    "indo_man_path = int_corp_path + \"/non-machine-readable_notes/india_manuscripts\"\n",
    "\n",
    "# Transoxania Narrative\n",
    "trans_man_path = int_corp_path + \"/non-machine-readable_notes/transoxania_manuscripts\"\n",
    "\n",
    "# Transoxania Documents\n",
    "trans_man_docs_path = int_corp_path + \"/xml_notes_stage3_final/bukhara_xml\"\n",
    "\n",
    "# Hyderabad Documents\n",
    "hyd_man_docs_path = int_corp_path + \"/xml_notes_stage3_final/hyderabad_xml\"\n",
    "\n",
    "# Indian Documents (misc. transcribed)\n",
    "indo_man_docs_path = int_corp_path + \"/xml_notes_stage3_final/indic_corpus_xml\"\n",
    "\n",
    "# Qajar Documents (misc. transcribed)\n",
    "qajar_man_docs_path = int_corp_path + \"/xml_notes_stage3_final/qajar_xml\"\n",
    "\n",
    "# Qajar Documents (misc. transcribed)\n",
    "saf_man_docs_path = int_corp_path + \"/xml_notes_stage3_final/qajar_xml\"\n",
    "\n",
    "# Misc Documents (misc. transcribed)\n",
    "misc_man_docs_path = int_corp_path + \"/xml_notes_stage3_final/misc_xml\"\n"
   ]
  },
  {
   "cell_type": "markdown",
   "metadata": {},
   "source": [
    "##### Unorganized Documents"
   ]
  },
  {
   "cell_type": "code",
   "execution_count": 30,
   "metadata": {},
   "outputs": [],
   "source": [
    "# Converted to XML, pre-sorted, Stage 2\n",
    "parser_xml_path = int_corp_path + \"/xml_notes_stage2/parser_depository\"\n",
    "\n",
    "# Converted to XML, pre-sorted, Stage 3\n",
    "updated_docs_path = int_corp_path + \"/xml_notes_stage3_final/updater_repository\"\n",
    "\n",
    "# Old system, yet to update\n",
    "xml_old_sys_path = int_corp_path + \"/xml_notes_stage2/xml_transcriptions_old_system\"\n",
    "\n",
    "# Markdown stage\n",
    "markdown_path = int_corp_path + \"/transcription_markdown_drafting_stage1\"\n",
    "\n",
    "# Markdown backlog (old system)\n",
    "md_backlog_path = int_corp_path + \"/transcription_markdown_drafting_stage1/document_conversion_backlog\""
   ]
  },
  {
   "cell_type": "markdown",
   "metadata": {},
   "source": [
    "Function to pull in text from plain text and markdown files"
   ]
  },
  {
   "cell_type": "code",
   "execution_count": 32,
   "metadata": {},
   "outputs": [],
   "source": [
    "def read_text_and_md_files(directory, existing_data=None):\n",
    "    text_files = {}\n",
    "    \n",
    "    for root, dirs, files in os.walk(directory):  # Use os.walk for recursive directory traversal\n",
    "        for filename in files:\n",
    "            if filename.endswith('.txt') or filename.endswith('.md'):  # Check for both text and markdown files\n",
    "                file_path = os.path.join(root, filename)\n",
    "                with open(file_path, 'r', encoding='utf-8') as file:\n",
    "                    text_files[filename] = file.read()  # Use filename as key and file content as value\n",
    "\n",
    "    if existing_data is not None:\n",
    "        # Combine the two dictionaries\n",
    "        text_files.update(existing_data)\n",
    "\n",
    "    return text_files\n",
    "\n",
    "# Example usage\n",
    "# directory_path = 'path/to/your/files'\n",
    "# existing_data = {'existing_file.txt': 'Existing content'}\n",
    "# combined_data = read_text_and_md_files(directory_path, existing_data)\n",
    "#print(combined_data)  # This will print the combined dictionary"
   ]
  },
  {
   "cell_type": "markdown",
   "metadata": {},
   "source": [
    "Function that does the same as above, except for XML files (converting them to plain text)"
   ]
  },
  {
   "cell_type": "code",
   "execution_count": 41,
   "metadata": {},
   "outputs": [],
   "source": [
    "def read_xml_files_as_text(directory, existing_data=None):\n",
    "    text_files = {}\n",
    "    \n",
    "    for root, dirs, files in os.walk(directory):  # Use os.walk for recursive directory traversal\n",
    "        for filename in files:\n",
    "            if filename.endswith('.xml'):  # Check for XML files\n",
    "                file_path = os.path.join(root, filename)\n",
    "                with open(file_path, 'r', encoding='utf-8') as file:\n",
    "                    xml_content = file.read()\n",
    "                    # Parse the XML and extract text\n",
    "                    try:\n",
    "                        root_element = ET.fromstring(xml_content)\n",
    "                        plain_text = ''.join(root_element.itertext())  # Get all text from the XML\n",
    "                        text_files[filename] = plain_text  # Use filename as key and plain text as value\n",
    "                    except ET.ParseError:\n",
    "                        print(f\"Error parsing {filename}. Skipping this file.\")\n",
    "\n",
    "    if existing_data is not None:\n",
    "        # Combine the two dictionaries\n",
    "        text_files.update(existing_data)\n",
    "\n",
    "    return text_files"
   ]
  },
  {
   "cell_type": "code",
   "execution_count": 43,
   "metadata": {},
   "outputs": [
    {
     "data": {
      "text/plain": [
       "{'ser934.xml': '\\n\\n\\t\\n\\t\\n\\n\\t\\n\\t\\t\\n\\t\\t\\n\\t\\t بنده نوازا \\n\\t\\n\\t\\t\\n\\t\\t تصدق سرمبارک جنابعالیحضرت سیدم شوم از روی مرحمت جنابعالیحضرتم\\n\\t\\t\\n\\t\\t از برای احوال گرفتن و خواهش فقرا\\n\\t\\t\\n\\t\\t و\\n\\t\\tتیمور شاه دادر اکبر شاه\\n\\t\\t\\tاشیک اقاباشی\\n\\t\\t\\n\\t\\t غلامشانرا فهمیدن\\n\\t\\tمیرزا حسن خواجه\\n\\t\\t غلامشان را فرستاده بودم که \\n\\t\\t\\n\\t\\t بموضع\\n\\t\\tونج\\n\\t\\t توابیع\\n\\t\\tدرواز\\n\\t\\t رفته\\n\\t\\tتیمورشاه\\n\\t\\t مذکور را مع فقرایان شغنانی همراهش بوده گی دیده احوال و خواهش \\n\\t\\t\\n\\t\\t آنها را پرسیده است\\n\\t\\tتیمور شاه\\n\\t\\t مذکور مع فقرایان جنابعالیحضرت سیدم را دعا نموده گفته اند که درینجا آمدن\\n\\t\\t\\n\\t\\t مایان سه سال شد بوقت از شغنان آمدن مقدار سیصد خانه وار بودیم که اکثر آنها فقرا بودند باز \\n\\t\\t\\n\\t\\t بشغنان رفتند الحال شصت یک خانه وار مانده ایم که اکثرا ما سپاه میباشیم از وجه ظلم و زجرا\\n\\t\\tافغانیه بوطن\\n\\t\\t\\n\\t\\t اما رفته نمیتوانیم تیمورشاه دادر اکبر شاه اشیک اقاباشی نیز از برای سریشته و\\n\\t\\tسرابانی\\n\\t\\t مایان بهمین جا\\n\\t\\t \\n\\t\\t\\n\\t\\t میباشد همین\\n\\t\\tونج\\n\\t\\t جای وسیع میباشد که وطن کرده گشته باکثر مردم\\n\\t\\tدرواز\\n\\t\\t خویش تبار شده ایم\\n\\t\\t\\n\\t\\t بجای دیگر رفتن اختیار نداریم الحال\\n\\t\\tتیمور شاه\\n\\t\\t سه قوش دارد از روی همان سه قوش بمایان نگاه بین\\n\\t\\t\\n\\t\\t\\n\\t\\t\\n\\t\\tکرده ایستاده است\\n\\t\\t\\n\\t\\t باین مسافران بیکس مرحمت جنابعالیحضرتما شده بدولت گان برکت جنابعالیمولایما\\n\\t\\t\\n\\t\\t تیمورشاه دادر\\n\\t\\tاکبر شاه\\n\\t\\t\\tاشیک اقاباشی\\n\\t\\t\\n\\t\\t غلامشان بقطار نوکریۀً درواز به یگان عمل سرافرازی یافته یکقوش\\n\\t\\t\\n\\t\\t دو قوش تنخواهش زیادتر شده بمایان سرابانی کند بهمین مرحمت جنابعالیحضرتما همه گی مایان خورسند\\n\\t\\tو سرافراز \\n\\t\\t\\n\\t\\t شده جنابعالیحضرتما را دعا مینمائیم غلام نوازا شوم\\n\\t\\t\\n\\t\\t از روی گفتۀ آدم غلامشان\\n\\t\\tمحمد مراد دادخواه\\n\\t\\t\\n\\t\\t غلامشان در وقت ب\\n\\t\\tدرواز\\n\\t\\t حاکم بودنش در بعضی کلان شونده گان اینها یکقوش نیمقوش داده\\n\\t\\t\\n\\t\\t دل آسا نموده بجنابعالیحضرتم دعا گرفته بوده است الحال امارتپناه محمد نظیر بی همان یکقوش\\n\\t\\tنیمقوش\\n\\t\\t\\n\\t\\t دادخواه داده گی را گرفته خواهش باینها نگاه بین کردن نداشته است بمرحمت جنابعالیحضرتم\\n\\t\\tتیمورشاه مذکور\\n\\t\\t\\n\\t\\t بقطار نوکریۀ درواز بیگان عمل سرافراز شده به بالای سه قوش داشته اش یکدو قوش دیگر مرحمت\\n\\t\\tجنابعالیحضرتم\\n\\t\\t\\n\\t\\t شود سبب اوقات گذاری کرده سرابانی جماعه اش را نموده همۀ کلان و خورد آنها خورسند شده\\n\\t\\tجنابعالیحضرتم را\\n\\t\\t\\n\\t\\t دعا مینمایند تصدق شوم از درواز تا ونج جای استقامت اینها دو شبانه روزه راه از ب\\n\\t\\tونج\\n\\t\\t تا خود\\n\\t\\tشغنان\\n\\t\\t\\n\\t\\t یک شبانه روزه راه بوده استاز روی غلامی عرض بنده گی نمودم آلهی جنابعالیحضرتم سلامت بدولت\\n\\t\\tباشند آمین\\n\\t\\t\\n\\t\\t التقصیر التقصیر التقصیر التقصیر التقصیر التقصیر. التقصیر التقصیر التقصیر \\n\\t\\n\\t\\t\\n\\t\\t عرض وزارتپناه قوش بیگی حصار از وجه اکبر شاه ایشیک اقاباشی و تیمور شاه\\n\\t\\tشغنانی\\n\\t\\t بولایت\\n\\t\\tدرواز\\n\\t\\t بوده ازینوجه گبورناطر\\n\\t\\tتاشکند\\n\\t\\t چیزی گوید \\n\\t\\t\\n\\t\\t بسوأل او جواب نوشته میشود \\n\\t\\t\\n\\t\\n',\n",
       " 'ser89.xml': '\\n\\t\\n\\n\\t\\n\\n\\t\\n\\n\\n\\t\\n\\t\\t\\n\\t\\t\\n\\t\\t بنده نوازا \\n\\t\\n\\t\\t\\n\\t\\t تصدق سر عزیز مبارک جناب عالیحضرتم و سیدم صد هزار مرتبه شوم\\n\\t\\t\\n\\t\\t غلام رضاجوی نادان و بندۀ عاجز ناتوان دستخط تبرکی مرحمت و مهربانی\\n\\t\\t\\n\\t\\t جناب عالیحضرتم شده گی را بوسیده بدیده گانم مالیده ازینهمه مرحمت \\n\\t\\t\\n\\t\\t و مهربانهای حضرتم خورسند و سرافراز شده شکرانه کرده در حق جناب عالی\\n\\t\\t\\n\\t\\t ملایم دعایا بلا نهایه نمودم تصدقشوم\\n\\t\\t\\n\\t\\t غلام رضاجوی نادانم \\n\\t\\t\\n\\t\\t مدت بیست روز میشود که عاجزهً\\n\\t\\tملا سلطان\\n\\t\\t را مادرش براضی گی خود ملا سلطان \\n\\t\\t\\n\\t\\t بحویلی غلامشان آورده سپرده بود که غلام رضاجوی عاجزهً مذکور \\n\\t\\t\\n\\t\\t بنا بر مناسیب دولتخانۀ عالی بودن از شرف دولتحضرتم و سیدم\\n\\t\\t\\n\\t\\t بر پدر و مادرش پانصد تنگه داده خورسند و راضی نموده بذات النور \\n\\t\\t\\n\\t\\t هماوین مولایم دعا گرفته دعا نموده عاجزه مذکور را از برای نیت\\n\\t\\t\\n\\t\\t دولتخانۀ عالی بحویلی غلامشان آورده نگاهداشته تربیت کرده استاده \\n\\t\\t\\n\\t\\t بودم که بموریدش عرض بنده گی نموده بدولتخانۀ عالی میسپارم \\n\\t\\t\\n\\t\\t\\n\\t\\t تصدقتان شوم\\n\\t\\t\\n\\t\\t ملا سلطان مذکور سودای بوده همراه ضعیفه اش نزاعی کرده \\n\\t\\t\\n\\t\\t راهی نموده از راه سودایا بودنش اینمعنی را بعرض عالی رسانده است\\n\\t\\t\\n\\t\\t و گرنه بندۀ نادان بخورسندی و راضی گی خود پدر و مادرش عاجزهً\\n\\t\\t\\n\\t\\t مذکور را گرفته نگاهداشته بودم ازینجوه مهربانی حضرتم بجۀ طریقه گی \\n\\t\\t\\n\\t\\t\\n\\t\\t شود بندۀ فرمانم غیر از دعا گویان ذات عالی و بخیر دریافت رضأ\\n\\t\\t\\n\\t\\t مبارک حضرتم دیگر آرزو و مطلب ندارم حضرتم بهتر و خوبتر میدانند\\n\\t\\t\\n\\t\\tابد الدهر\\n\\t\\t حضرتم بداولت سلامت باشند \\n\\t\\tالتقصیر التقصیرالتقصیر التقصیرالتقصیر التقصیرالتقصیر\\n\\t\\n'}"
      ]
     },
     "execution_count": 43,
     "metadata": {},
     "output_type": "execute_result"
    }
   ],
   "source": [
    "read_xml_files_as_text(trans_man_docs_path)"
   ]
  },
  {
   "cell_type": "code",
   "execution_count": null,
   "metadata": {},
   "outputs": [],
   "source": []
  },
  {
   "cell_type": "markdown",
   "metadata": {},
   "source": [
    "Make one big flat dictionary of main Central Asia plain text I want to look at:"
   ]
  },
  {
   "cell_type": "code",
   "execution_count": 45,
   "metadata": {},
   "outputs": [
    {
     "name": "stdout",
     "output_type": "stream",
     "text": [
      "Error parsing ser1270.xml. Skipping this file.\n",
      "Error parsing ser2037.xml. Skipping this file.\n",
      "Error parsing ser1258.xml. Skipping this file.\n",
      "Error parsing ser2023.xml. Skipping this file.\n",
      "Error parsing ser811.xml. Skipping this file.\n",
      "Error parsing ser1884.xml. Skipping this file.\n",
      "Error parsing ser1489.xml. Skipping this file.\n",
      "Error parsing ser1891.xml. Skipping this file.\n",
      "Error parsing ser1926.xml. Skipping this file.\n",
      "Error parsing ser1701.xml. Skipping this file.\n",
      "Error parsing ser2022.xml. Skipping this file.\n",
      "Error parsing ser2036.xml. Skipping this file.\n",
      "Error parsing ser1271.xml. Skipping this file.\n",
      "Error parsing ser1501.xml. Skipping this file.\n",
      "Error parsing ser1529.xml. Skipping this file.\n",
      "Error parsing ser812.xml. Skipping this file.\n",
      "Error parsing ser1918.xml. Skipping this file.\n",
      "Error parsing ser1930.xml. Skipping this file.\n",
      "Error parsing ser1924.xml. Skipping this file.\n",
      "Error parsing ser1887.xml. Skipping this file.\n",
      "Error parsing ser1893.xml. Skipping this file.\n",
      "Error parsing ser1892.xml. Skipping this file.\n",
      "Error parsing ser1886.xml. Skipping this file.\n",
      "Error parsing ser1925.xml. Skipping this file.\n",
      "Error parsing ser1931.xml. Skipping this file.\n",
      "Error parsing ser1919.xml. Skipping this file.\n",
      "Error parsing ser813.xml. Skipping this file.\n",
      "Error parsing ser1702.xml. Skipping this file.\n",
      "Error parsing ser1528.xml. Skipping this file.\n",
      "Error parsing ser2009.xml. Skipping this file.\n",
      "Error parsing ser1514.xml. Skipping this file.\n",
      "Error parsing ser2031.xml. Skipping this file.\n",
      "Error parsing ser1538.xml. Skipping this file.\n",
      "Error parsing ser2019.xml. Skipping this file.\n",
      "Error parsing ser817.xml. Skipping this file.\n",
      "Error parsing ser1921.xml. Skipping this file.\n",
      "Error parsing ser1882.xml. Skipping this file.\n",
      "Error parsing ser1896.xml. Skipping this file.\n",
      "Error parsing ser1869.xml. Skipping this file.\n",
      "Error parsing ser1854.xml. Skipping this file.\n",
      "Error parsing ser1897.xml. Skipping this file.\n",
      "Error parsing ser1883.xml. Skipping this file.\n",
      "Error parsing ser816.xml. Skipping this file.\n",
      "Error parsing ser2018.xml. Skipping this file.\n",
      "Error parsing ser1539.xml. Skipping this file.\n",
      "Error parsing ser2030.xml. Skipping this file.\n",
      "Error parsing ser2024.xml. Skipping this file.\n",
      "Error parsing ser1739.xml. Skipping this file.\n",
      "Error parsing ser814.xml. Skipping this file.\n",
      "Error parsing ser1922.xml. Skipping this file.\n",
      "Error parsing ser1936.xml. Skipping this file.\n",
      "Error parsing ser1895.xml. Skipping this file.\n",
      "Error parsing ser1466.xml. Skipping this file.\n",
      "Error parsing ser1472.xml. Skipping this file.\n",
      "Error parsing ser1937.xml. Skipping this file.\n",
      "Error parsing ser1923.xml. Skipping this file.\n",
      "Error parsing ser815.xml. Skipping this file.\n",
      "Error parsing ser2027.xml. Skipping this file.\n",
      "Error parsing ser2033.xml. Skipping this file.\n",
      "Error parsing ser2068.xml. Skipping this file.\n",
      "Error parsing ser1575.xml. Skipping this file.\n",
      "Error parsing ser2054.xml. Skipping this file.\n",
      "Error parsing ser2040.xml. Skipping this file.\n",
      "Error parsing ser1777.xml. Skipping this file.\n",
      "Error parsing ser1788.xml. Skipping this file.\n",
      "Error parsing ser93.xml. Skipping this file.\n",
      "Error parsing ser1603.xml. Skipping this file.\n",
      "Error parsing ser1367.xml. Skipping this file.\n",
      "Error parsing ser92.xml. Skipping this file.\n",
      "Error parsing ser1789.xml. Skipping this file.\n",
      "Error parsing ser1004.xml. Skipping this file.\n",
      "Error parsing ser1548.xml. Skipping this file.\n",
      "Error parsing ser2041.xml. Skipping this file.\n",
      "Error parsing ser1574.xml. Skipping this file.\n",
      "Error parsing ser1576.xml. Skipping this file.\n",
      "Error parsing ser1204.xml. Skipping this file.\n",
      "Error parsing ser2057.xml. Skipping this file.\n",
      "Error parsing ser1589.xml. Skipping this file.\n",
      "Error parsing ser90.xml. Skipping this file.\n",
      "Error parsing ser1614.xml. Skipping this file.\n",
      "Error parsing ser1628.xml. Skipping this file.\n",
      "Error parsing ser1370.xml. Skipping this file.\n",
      "Error parsing ser1371.xml. Skipping this file.\n",
      "Error parsing ser904.xml. Skipping this file.\n",
      "Error parsing ser1749.xml. Skipping this file.\n",
      "Error parsing ser1577.xml. Skipping this file.\n",
      "Error parsing ser2046.xml. Skipping this file.\n",
      "Error parsing ser1573.xml. Skipping this file.\n",
      "Error parsing ser1567.xml. Skipping this file.\n",
      "Error parsing ser1003.xml. Skipping this file.\n",
      "Error parsing ser95.xml. Skipping this file.\n",
      "Error parsing ser1611.xml. Skipping this file.\n",
      "Error parsing ser1361.xml. Skipping this file.\n",
      "Error parsing ser518.xml. Skipping this file.\n",
      "Error parsing ser1610.xml. Skipping this file.\n",
      "Error parsing ser94.xml. Skipping this file.\n",
      "Error parsing ser1566.xml. Skipping this file.\n",
      "Error parsing ser1572.xml. Skipping this file.\n",
      "Error parsing ser1558.xml. Skipping this file.\n",
      "Error parsing ser2051.xml. Skipping this file.\n",
      "Error parsing ser1564.xml. Skipping this file.\n",
      "Error parsing ser1570.xml. Skipping this file.\n",
      "Error parsing ser1799.xml. Skipping this file.\n",
      "Error parsing ser96.xml. Skipping this file.\n",
      "Error parsing ser1809.xml. Skipping this file.\n",
      "Error parsing ser1834.xml. Skipping this file.\n",
      "Error parsing ser1613.xml. Skipping this file.\n",
      "Error parsing ser1798.xml. Skipping this file.\n",
      "Error parsing ser876.xml. Skipping this file.\n",
      "Error parsing ser1571.xml. Skipping this file.\n",
      "Error parsing ser1565.xml. Skipping this file.\n",
      "Error parsing ser2050.xml. Skipping this file.\n",
      "Error parsing ser1559.xml. Skipping this file.\n",
      "Error parsing ser1554.xml. Skipping this file.\n",
      "Error parsing ser1568.xml. Skipping this file.\n",
      "Error parsing ser1583.xml. Skipping this file.\n",
      "Error parsing ser1839.xml. Skipping this file.\n",
      "Error parsing ser1811.xml. Skipping this file.\n",
      "Error parsing ser1810.xml. Skipping this file.\n",
      "Error parsing ser1623.xml. Skipping this file.\n",
      "Error parsing ser1780.xml. Skipping this file.\n",
      "Error parsing ser1743.xml. Skipping this file.\n",
      "Error parsing ser1582.xml. Skipping this file.\n",
      "Error parsing ser1569.xml. Skipping this file.\n",
      "Error parsing ser1555.xml. Skipping this file.\n",
      "Error parsing ser1557.xml. Skipping this file.\n",
      "Error parsing ser1543.xml. Skipping this file.\n",
      "Error parsing ser1580.xml. Skipping this file.\n",
      "Error parsing ser1621.xml. Skipping this file.\n",
      "Error parsing ser1609.xml. Skipping this file.\n",
      "Error parsing ser1806.xml. Skipping this file.\n",
      "Error parsing ser1812.xml. Skipping this file.\n",
      "Error parsing ser1813.xml. Skipping this file.\n",
      "Error parsing ser1967.xml. Skipping this file.\n",
      "Error parsing ser1797.xml. Skipping this file.\n",
      "Error parsing ser1581.xml. Skipping this file.\n",
      "Error parsing ser1542.xml. Skipping this file.\n",
      "Error parsing ser1556.xml. Skipping this file.\n",
      "Error parsing ser1552.xml. Skipping this file.\n",
      "Error parsing ser1220.xml. Skipping this file.\n",
      "Error parsing ser1546.xml. Skipping this file.\n",
      "Error parsing ser1591.xml. Skipping this file.\n",
      "Error parsing ser1585.xml. Skipping this file.\n",
      "Error parsing ser1744.xml. Skipping this file.\n",
      "Error parsing ser1793.xml. Skipping this file.\n",
      "Error parsing ser1368.xml. Skipping this file.\n",
      "Error parsing ser1369.xml. Skipping this file.\n",
      "Error parsing ser1631.xml. Skipping this file.\n",
      "Error parsing ser1786.xml. Skipping this file.\n",
      "Error parsing ser1779.xml. Skipping this file.\n",
      "Error parsing ser1584.xml. Skipping this file.\n",
      "Error parsing ser1590.xml. Skipping this file.\n",
      "Error parsing ser1221.xml. Skipping this file.\n",
      "Error parsing ser1547.xml. Skipping this file.\n",
      "Error parsing ser1579.xml. Skipping this file.\n",
      "Error parsing ser1545.xml. Skipping this file.\n",
      "Error parsing ser2058.xml. Skipping this file.\n",
      "Error parsing ser1551.xml. Skipping this file.\n",
      "Error parsing ser842.xml. Skipping this file.\n",
      "Error parsing ser1753.xml. Skipping this file.\n",
      "Error parsing ser1784.xml. Skipping this file.\n",
      "Error parsing ser1790.xml. Skipping this file.\n",
      "Error parsing ser1155.xml. Skipping this file.\n",
      "Error parsing ser1633.xml. Skipping this file.\n",
      "Error parsing ser1627.xml. Skipping this file.\n",
      "Error parsing ser1632.xml. Skipping this file.\n",
      "Error parsing ser1785.xml. Skipping this file.\n",
      "Error parsing ser843.xml. Skipping this file.\n",
      "Error parsing ser857.xml. Skipping this file.\n",
      "Error parsing ser1550.xml. Skipping this file.\n",
      "Error parsing ser2059.xml. Skipping this file.\n",
      "Error parsing ser1544.xml. Skipping this file.\n",
      "Error parsing ser1222.xml. Skipping this file.\n",
      "Error parsing ser2065.xml. Skipping this file.\n",
      "Error parsing ser1578.xml. Skipping this file.\n",
      "Error parsing ser2016.xml. Skipping this file.\n",
      "Error parsing ser1906.xml. Skipping this file.\n",
      "Error parsing ser1912.xml. Skipping this file.\n",
      "Error parsing ser1872.xml. Skipping this file.\n",
      "Error parsing ser1319.xml. Skipping this file.\n",
      "Error parsing ser1318.xml. Skipping this file.\n",
      "Error parsing ser1456.xml. Skipping this file.\n",
      "Error parsing ser1867.xml. Skipping this file.\n",
      "Error parsing ser1873.xml. Skipping this file.\n",
      "Error parsing ser1898.xml. Skipping this file.\n",
      "Error parsing ser1907.xml. Skipping this file.\n",
      "Error parsing ser2017.xml. Skipping this file.\n",
      "Error parsing ser2029.xml. Skipping this file.\n",
      "Error parsing ser1939.xml. Skipping this file.\n",
      "Error parsing ser1905.xml. Skipping this file.\n",
      "Error parsing ser1865.xml. Skipping this file.\n",
      "Error parsing ser1468.xml. Skipping this file.\n",
      "Error parsing ser1455.xml. Skipping this file.\n",
      "Error parsing ser1870.xml. Skipping this file.\n",
      "Error parsing ser1864.xml. Skipping this file.\n",
      "Error parsing ser1904.xml. Skipping this file.\n",
      "Error parsing ser2014.xml. Skipping this file.\n",
      "Error parsing ser2010.xml. Skipping this file.\n",
      "Error parsing ser1257.xml. Skipping this file.\n",
      "Error parsing ser1531.xml. Skipping this file.\n",
      "Error parsing ser2038.xml. Skipping this file.\n",
      "Error parsing ser1525.xml. Skipping this file.\n",
      "Error parsing ser1900.xml. Skipping this file.\n",
      "Error parsing ser1874.xml. Skipping this file.\n",
      "Error parsing ser1875.xml. Skipping this file.\n",
      "Error parsing ser1901.xml. Skipping this file.\n",
      "Error parsing ser1256.xml. Skipping this file.\n",
      "Error parsing ser1530.xml. Skipping this file.\n",
      "Error parsing ser2011.xml. Skipping this file.\n",
      "Error parsing ser2013.xml. Skipping this file.\n",
      "Error parsing ser1526.xml. Skipping this file.\n",
      "Error parsing ser1532.xml. Skipping this file.\n",
      "Error parsing ser809.xml. Skipping this file.\n",
      "Error parsing ser1917.xml. Skipping this file.\n",
      "Error parsing ser1888.xml. Skipping this file.\n",
      "Error parsing ser1863.xml. Skipping this file.\n",
      "Error parsing ser1876.xml. Skipping this file.\n",
      "Error parsing ser1889.xml. Skipping this file.\n",
      "Error parsing ser1902.xml. Skipping this file.\n",
      "Error parsing ser808.xml. Skipping this file.\n",
      "Error parsing ser1533.xml. Skipping this file.\n",
      "Error parsing ser1255.xml. Skipping this file.\n",
      "Error parsing ser1527.xml. Skipping this file.\n",
      "Error parsing ser2012.xml. Skipping this file.\n"
     ]
    }
   ],
   "source": [
    "text_notes = read_text_and_md_files (trans_notes)\n",
    "cent_texts_prelim = read_xml_files_as_text (trans_man_docs_path, text_notes)\n",
    "cent_texts = read_xml_files_as_text(parser_xml_path, cent_texts_prelim)"
   ]
  },
  {
   "cell_type": "code",
   "execution_count": 47,
   "metadata": {},
   "outputs": [],
   "source": [
    "# clean up Arabic script in a dictionary:\n",
    "\n",
    "def clean_dictionary_values(data_dict):\n",
    "    cleaned_dict = {}\n",
    "    for key, value in data_dict.items():\n",
    "        cleaned_dict[key] = ac.clean_document(value)  # Clean the document for each value\n",
    "    return cleaned_dict"
   ]
  },
  {
   "cell_type": "code",
   "execution_count": 49,
   "metadata": {},
   "outputs": [],
   "source": [
    "cent_texts_clean = clean_dictionary_values(cent_texts)"
   ]
  },
  {
   "cell_type": "code",
   "execution_count": 55,
   "metadata": {},
   "outputs": [],
   "source": [
    "def regex_search_in_dict(data_dict, regex_pattern, additional_chars=30):\n",
    "    results = {}\n",
    "    \n",
    "    for key, value in data_dict.items():\n",
    "        matches = re.finditer(regex_pattern, value)  # Find all matches of the regex pattern\n",
    "        match_count = {}  # To keep track of how many times each match has occurred\n",
    "        \n",
    "        for match in matches:\n",
    "            matched_value = match.group()  # Get the matched string\n",
    "            match_count[matched_value] = match_count.get(matched_value, 0) + 1  # Increment count\n",
    "            \n",
    "            start_index = max(match.start() - additional_chars, 0)  # Ensure we don't go below 0\n",
    "            end_index = match.end() + additional_chars  # Get the end index for slicing\n",
    "            matched_text = value[start_index:end_index]  # Extract the matched text with context\n",
    "            \n",
    "            # Create a new key for the results\n",
    "            ordinal = match_count[matched_value]  # Get the current count for this match\n",
    "            result_key = f\"reg_{matched_value}_no{ordinal}\"\n",
    "            \n",
    "            # Initialize the nested dictionary for the original key if it doesn't exist\n",
    "            if key not in results:\n",
    "                results[key] = {}\n",
    "            \n",
    "            results[key][result_key] = matched_text  # Store the matched text in the nested dictionary\n",
    "\n",
    "    return results"
   ]
  },
  {
   "cell_type": "code",
   "execution_count": 57,
   "metadata": {},
   "outputs": [
    {
     "name": "stderr",
     "output_type": "stream",
     "text": [
      "<>:1: SyntaxWarning: invalid escape sequence '\\s'\n",
      "<>:1: SyntaxWarning: invalid escape sequence '\\s'\n",
      "/var/folders/1w/d88p801d2_58fpkhtrcvxz_m0000gn/T/ipykernel_69078/3922758070.py:1: SyntaxWarning: invalid escape sequence '\\s'\n",
      "  search = regex_search_in_dict(cent_texts_clean, \"\\s(\\S*?ده)\\sبوده\\sاست\")\n"
     ]
    }
   ],
   "source": [
    "search = regex_search_in_dict(cent_texts_clean, \"\\s(\\S*?ده)\\sبوده\\sاست\")"
   ]
  },
  {
   "cell_type": "code",
   "execution_count": 59,
   "metadata": {},
   "outputs": [
    {
     "name": "stdout",
     "output_type": "stream",
     "text": [
      "{'ser1932.xml': {'reg_ داده بوده است_no1': 'ه گی ها را مع اشتر ها شان جواب داده بوده است کار سوداگران بخارایی و قراکول'}, 'ser1935.xml': {'reg_ فوتیده بوده است_no1': 'در سرای بحجره صوفی هندی اکه اش فوتیده بوده است که اینغلام دعاگوی شنیده آدم ف'}, 'ser1934.xml': {'reg_ شناسنانیده بوده است_no1': 'وده خودش را بامارتپناه بی محرم شناسنانیده بوده است که بی محرم مذکور بعضی خذمت مخ'}, 'ser237.xml': {'reg_ آمده بوده است_no1': 'د طبابت مینمایم گفته در وابکند آمده بوده است مدت یکهفته گذشته بیگاه سه شنب', 'reg_ فوتیده بوده است_no1': 'ته بیگاه سه شنبه سزدهم ماه رجب فوتیده بوده است که دعاگویشان فضیلت پناه قاضی '}, 'ser1880.xml': {'reg_ خوابکرده بوده است_no1': 'از حوالی اش نمی بر امده گی شده خوابکرده بوده است که جناب عالیحضرتم بازار شب ول'}, 'ser1561.xml': {'reg_ فرستاده بوده است_no1': 'ه از جهت بی کسی او در نزد پدرش فرستاده بوده است که از روی غلامی و نادانی معلو'}, 'ser906.xml': {'reg_ گردیده بوده است_no1': 'وی مرحمت عالیحضرتموایاما مامور گردیده بوده است که روز پنجشنبه بقرشی آمده گذش', 'reg_ فرستاده بوده است_no1': 'تپناه مذکور خط کرده بحضرت لنگر فرستاده بوده است که عبد النظر مذکور روز شنبه ا'}, 'ser898.xml': {'reg_ شده بوده است_no1': 'ده در موضع فیض اباد رفته ناتاب شده بوده است از املاکدار بمیر قشبیگی خط ام'}, 'ser1560.xml': {'reg_ فرستاده بوده است_no1': 'کردن همراه محمد عیسی خان قوشون فرستاده بوده است و محمد عیسی خان هم در برابر آ', 'reg_ فرستاده بوده است_no2': ' از برای بخود گرفتن کمتر قوشون فرستاده بوده است اهالی میمنه قبول نکرده بوده ا'}, 'ser2043.xml': {'reg_ شده بوده است_no1': 'امان مال اموال مذکوران پادشاهی شده بوده است که ازینوجه بجناب عالی لفظا عر'}, 'ser2053.xml': {'reg_ شده بوده است_no1': 'بنوازشنامه سلامتی مهربانی اشان شده بوده است که از روی اطلاعداده ایلچی خان', 'reg_ کرده بوده است_no1': 'رضای خویش اقربا خفیه همینطریقه کرده بوده است دیگر اختیار جوابدادن آنها بشم', 'reg_ کرده بوده است_no2': 'چه مذکور را یکهزار تنگه قرضدار کرده بوده است که بعد از چند گاه بتردد بسیار'}, 'ser1808.xml': {'reg_ شده بوده است_no1': 'ین توابع قباقلی و اورگنج خط چک شده بوده است قبله گاها از مهربانی جناب عال'}, 'ser97.xml': {'reg_ شده بوده است_no1': 'سیده است بگزیت چی وقت هم نوشته شده بوده است که من خبردار شده نگاهداشتم از', 'reg_ نشده بوده است_no1': 'ن از کیوانیها اینطریقه تردد ها نشده بوده است همین مقدار فهمیدم که آنرا جب ', 'reg_ آورده بوده است_no1': 'ایان رفته تردد کرده دو دختر بر آورده بوده است غلام غلام نادان عاجز هیچدان ا'}, 'ser2061.xml': {'reg_ سازیده بوده است_no1': ' بنزد آدم شریعت پناه یوزه باشی سازیده بوده است و نیز نظر محمد نام فقرای نور '}, 'ser1622.xml': {'reg_ شده بوده است_no1': 'نصر لطیف اشان اندک ناخوشی واقع شده بوده است که شنیده زیاده بر زیاده خفه گ'}, 'ser1796.xml': {'reg_ شده بوده است_no1': 'ن نوغی را زده مجروح کرده اقرار شده بوده است از دولت عالی امید میکنم که هر'}, 'ser2063.xml': {'reg_ ایستاده بوده است_no1': ' یک منزل فرآمده بآهسته گی آمده ایستاده بوده است که آدمان غلامشان در هر منزل ا'}, 'ser706.xml': {'reg_ شده بوده است_no1': 'گفته مرحمت و مهربانی عالیملایم شده بوده است که اینغلام رضاجوی مبارکنامه ع'}, 'ser1553.xml': {'reg_ شده بوده است_no1': 'حاکم بیاید می زوم گفته آمده نی شده بوده است مفتی و قاضی یان او نمانده اند'}, 'ser1866.xml': {'reg_ آمده بوده است_no1': ' ضعیفه غیر وقت شب برسته کرمینه آمده بوده است که شب گردها دیده بنابر بیکس ب', 'reg_ نموده بوده است_no1': 'آمده بودم گفته احوالش را اظهار نموده بوده است که بنابر احوال آن معلوم شدن ا'}, 'ser1871.xml': {'reg_ نموده بوده است_no1': 'ده بدروازه ارکعالی آمده التماس نموده بوده است که از غلامان دربار عالی امامق'}, 'ser1928.xml': {'reg_ رسانیده بوده است_no1': 'الی رفته جنابعالی را دعا نموده رسانیده بوده است که مسماه مقصد آی ام عاجزه امر', 'reg_ شده بوده است_no1': 'سیدیم مرحمتپناها مد ت چهار سال شده بوده است که مسماه آی مذکوره عاجزه رحیم', 'reg_ فوتیده بوده است_no1': 'ی مذکوره عاجزه رحیمه آی مذکوره فوتیده بوده است که بنابر تقدیر ازلی رحیمه آی '}, 'muhammad_hakim_khan_muntakhab_al_tavarikh_1842_amir_haydar.txt': {'reg_ کرده بوده است_no1': 'یپرسید بعد میر هم دانست که غلط کرده بوده است و صاحب گاو هم دانست که این گا', 'reg_ شده بوده است_no1': 'و هم دانست که این گاوی از خودش شده بوده است از این نوع سخنهای بیهوده بسیا'}, 'bukhara_i_sharif_1912_farsi_newspaper_navoi_f_72.txt': {'reg_ شده بوده است_no1': ' شریف بر آمده رفت تقریبا یکماه شده بوده است که قاضی مذکور برکاب عالی حاضر'}, 'biography_of_ata_allah_bin_abd_al_hadi_al_biruni_79xii_ser30.txt': {'reg_ شده بوده است_no1': ' قاضی شدن حقیر بیست شش سال سال شده بوده است اما ایشان قاضی ترسون باقی بام'}, 'fatwa_transcription_collection_and_scrapbook_unknown_author_al_biruni_2844.txt': {'reg_ متعده بوده است_no1': 'ه کذا که اراضی مذکوره در مواضع متعده بوده است اراضی مذکور را بدل کذا آنکه ت'}, 'tazkirah_i_tahir_ishan_aka_silsilah_i_khwajagan_i_naqshbandiyyah_al_biruni_855i.txt': {'reg_ مانده بوده است_no1': 'نام داشته اند از ایشان یک پسری مانده بوده است که بهندوستان رفته در ان دیار ', 'reg_ شده بوده است_no1': 'د که تولد من از مادر در ان وقت شده بوده است که حضرت ابو الغازی خان بن عرب'}, 'tarikh-i_salimi_IVANUz2016_ser479.md': {'reg_ استاده بوده است_no1': ' ببالای تخته پل دروازه ارکعالی استاده بوده است یکنفر اوروس بلشویک را بریگستا'}, 'safarnamah_i_qazi_hadi_khwajah_az_bukhara_bah_iran_al_biruni_5255xviii.txt': {'reg_ داده بوده است_no1': 'ان حسین میرزا بحضرت مولوی جامی داده بوده است روز دو شنبه دویم رمضان از دهی'}, 'tarikh_i_baljuvan_al_biruni_2663iii_ser412.txt': {'reg_ اورده بوده است_no1': 'های خودش را به هیه خورد فروخته اورده بوده است در آنوقت از برای پ ل نبودن سو', 'reg_ براورده بوده است_no1': 'اکم شده سک ه بنام خود زده تنگه براورده بوده است باز سره خان از بخارا اتالق شد'}, 'tazkirat_al_shuara_i_abdallah_khwajah_abdi_1904_ser10.txt': {'reg_ نموده بوده است_no1': ' است دیوان حافظ را بتمامه مخمس نموده بوده است مشار الیه چند گاه در بخارا آم', 'reg_ کرده بوده است_no1': 'ع قصیده در مدح عیسی مخدوم انشا کرده بوده است که بعد از فوت از بالای سندلی ', 'reg_ کرده بوده است_no2': 'خلص بسامی از ایشان نوشته و نقل کرده بوده است نوشته میشود زیرا که پایه نثر ', 'reg_ گذرانیده بوده است_no1': 'ستهز او جزی از نظر اقضی القضاه گذرانیده بوده است اشعار بسیاری داشته که اگر مجع', 'reg_ شده بوده است_no1': 'ین بخشان بوده است الآن چند سال شده بوده است که در ولایت کوچیده آمده بوده '}, 'sami_bustani_tuhfa-ishahi_IVANUz2091_ser475.md': {'reg_ شده بوده است_no1': ' ایشان برامده بامرای دیگر مفوض شده بوده است'}, 'bayan_i_dastan_i_sarguzasht_i_abd_al_ghafur_turkistani_khanykov_53_ser41.txt': {'reg_ آمده بوده است_no1': 'خواه گفت جنون شما از برای مردن آمده بوده است گفته حکم کشی فرمود در حال او '}, 'manaqib_wa_maqamat_i_sayyid_muhammad_ataallah_shaykh_al_islam_pnb_200_ser42.txt': {'reg_ شده بوده است_no1': 'قاضی کلان شدن فقیر بیست شش سال شده بوده است بعد از ان قاضی ترسون باقی بحض', 'reg_ کرده بوده است_no1': 'ابوده است خدایتعالی چنین تقدیر کرده بوده است در ازل والا چندین مرتبه جزم ن', 'reg_ آمده بوده است_no1': 'نشسته بودیم حاجی او نیز بزیارت آمده بوده است حضرتم باو از بلند مهربانی نمو'}, 'sbornik_vypisok_iz_sochinenii_po_fikkhu_i_iuridicheskikh_kazusov_pnb_f924_d558.txt': {'reg_ شده بوده است_no1': 'نان وی خالد را که مستحق حد شرب شده بوده است بربسته اقامت حد نموده باشند ب', 'reg_ گردانیده بوده است_no1': ' انقیاد نمی نموده ایشانرا عاجز گردانیده بوده است شرعا تعر ض برین محتسب ومعینان'}, 'notebook_of_qazi_abu_nurchashmi_19th_century_pnb_f924_d561.txt': {'reg_ نموده بوده است_no1': 'مذکور ملا فلانی را عرض بنده گی نموده بوده است که مرحمت عالی بایندعاگوی شده '}, 'qari_masihai_tamhid_samarqandi_samariyyah_1957.txt': {'reg_ شده بوده است_no1': 'رسه میرزا الغ بیگ بوده و ویران شده بوده است بفتوای علما خشت های او آورده '}, 'mulla_avad_muhammad_tuhfat_al_tawarikh_khani_ivrsp_c_440.txt': {'reg_ رسانیده بوده است_no1': 'ن گاه خانه در آورده بدرج شهادت رسانیده بوده است جسد م رده این چهار زن را در ا'}, 'saadatallah_lutf_i_buzurg_ivrsp_b_1932_ser232.txt': {'reg_ نهاده بوده است_no1': 'بران نام پسر خویش را آخوند جان نهاده بوده است و او را بنزد شان سپرده ست تا '}, 'dhikr_i_tarikh_i_abu_al_fayd_khan_anonymous_ivrsp_c_667_ser399.txt': {'reg_ رسیده بوده است_no1': ' آمده آوازه بگوش ابو الفیض خان رسیده بوده است نادر شاه بخارا را برحیم خان د'}, 'i1-29-1218_ser1198.md': {'reg_ شده بوده است_no1': 'ه آت سیل جاری شده تحت آن کاواک شده بوده است از ظرفهای مس کهنه قدیمه بنظر '}, 'i3-1-18_ser1039.md': {'reg_ شده بوده است_no1': 'های فقرای ر س شصت چهار صوم ضرر شده بوده است التماس مینمایم که مبلغ های مذ'}, 'i3-2-1028_ser1640.md': {'reg_ کرده بوده است_no1': 'نا کرده زاو ت مایان را م صارده کرده بوده است بدرون انبار زاوت مذکور اسباب '}, 'i3-2-600_ser1672.md': {'reg_ داده بوده است_no1': 'ن ماتیل در وقتش از زبان خود خط داده بوده است که در صورتخانه مذکور غیر از ب'}, 'i3-1-346_ser1088.md': {'reg_ داده بوده است_no1': 'مقدار دو ساعت ایستاده باز جواب داده بوده است'}, 'i126-2-5875_ser1206.md': {'reg_ داده بوده است_no1': 'اب الدین نام داغستانی عقد کرده داده بوده است که چنوع شده است برادر سلیمان ', 'reg_ کرده بوده است_no1': ' مذکورش اندک نسف نیت کرده عرضه کرده بوده است و ال ا سید علی خواجه مذکور آد', 'reg_ داده بوده است_no2': 'ین نام داغستانی نکاح شعری کرده داده بوده است که سید علی خواجه مذکور پنجاه '}, 'i126-2-6230_ser1211.md': {'reg_ داده بوده است_no1': 'بخارای شریف آمده گی گفته رویخط داده بوده است که عطا خواجه توقسابه بما معلو'}, 'i126-1-1702_ser1915.md': {'reg_ رسانیده بوده است_no1': 'یت کرمینه بروازه ارک عالی رفته رسانیده بوده است که مذه یکنیم سال باز مسماه اس'}, 'i126-2-6315_ser1212.md': {'reg_ فوتیده بوده است_no1': 'کور پنجماه زیاد تر میشد است که فوتیده بوده است و ایضا اقسقالان و کلانشونده گ'}, 'i126-2-50_ser1327.md': {'reg_ داده بوده است_no1': 'ذکور را فوجه او ل نرودنای ارمی داده بوده است از روی معلوم کردن مسلمانان آن', 'reg_ شده بوده است_no1': 'تحریر شد گفته مهربانی آصف جاهی شده بوده است وزارتپناها مکتوب مرسوله آمده '}, 'i126-2-7270_ser1831.md': {'reg_ شده بوده است_no1': 'ته است که م د ت نه سال باز جدا شده بوده است سه فرزند داشته است که دو نفر ', 'reg_ نشده بوده است_no1': ' نبوده از طرف مذکور پراتکول هم نشده بوده است بنابران معلوم شود گفته معروضد', 'reg_ نشده بوده است_no2': 'ه راست بودن حادثه مذکوره معلوم نشده بوده است بحاضر استاکنچه مذکور را آورده', 'reg_ کرده بوده است_no1': ' مسماه مذکور بایلچی خانه معلوم کرده بوده است که آقسقال موضع بابا آغدریا با', 'reg_ کرده بوده است_no2': 'وم کرده میرشب گنه کاران را حبس کرده بوده است بنابران بشما صدارت پناهی آگاه', 'reg_ شده بوده است_no2': 'ر حبس نمودن بمهربانی اشان برقم شده بوده است که از ایلچی خانه برقم ازینوجه', 'reg_ داده بوده است_no1': 'ز دعوی اش گذشته از زبانش دستخط داده بوده است گفته معروضداشته بودم حاضر بوا', 'reg_ نموده بوده است_no1': 'نوجه پرستوف دیوانه باغ استفسار نموده بوده است که مسم اه مذکوره کشاده خط بنا'}, 'i126-1-1733_ser1848.md': {'reg_ کشیده بوده است_no1': 'رمست قاتل اورگنجیان قباقلی جیل کشیده بوده است که بمرحمت عالی نامبره مذکور ب'}, 'i126-1-584_ser1910.md': {'reg_ برده بوده است_no1': 'ادیانرا مع یکراس پای او دزدیده برده بوده است که صاحبان مادیان مذکور خبر دا', 'reg_ شده بوده است_no1': 'ر یافت گفته مهربانی والا مقامی شده بوده است وزارتپناها یکدو نفر فقرای موض'}, 'i126-1-1617_ser1847.md': {'reg_ فوتیده بوده است_no1': 'د جیباچی ماشکارانی بتقدیر ازلی فوتیده بوده است الیش الش مراد مذکور را که الش'}, 'i126-2-35_ser1035.md': {'reg_ آمده بوده است_no1': 'ارت بزرگواران باینها همراه شده آمده بوده است از رعیه روسیه عبد الحلیم خواج'}, 'i126-2-6328_ser1213.md': {'reg_ آمده بوده است_no1': ' خطر چی رفتن بایستنسه کاگان بر آمده بوده است یتیامن مذکور را عسکریه گان رو'}, 'i126-1-1440_ser1768.md': {'reg_ شده بوده است_no1': 'یسه خود عرق بر آورده خورده مست شده بوده است که کفکاز های قراول فهمیده مذک'}, 'i126-2-5874_ser1343.md': {'reg_ شده بوده است_no1': 'ابق یوم فیورال سنه میلادیه عقد شده بوده است از مسماه خورسند ای پرسیده گی '}, 'i126-2-45_ser1326.md': {'reg_ کاریده بوده است_no1': 'بسنه حاضر بزمین مذکور نیز گندم کاریده بوده است که بنابر بسال مذکور بجمیع محک', 'reg_ شده بوده است_no1': 'ه میرزای ولستنای دم اریغ معزول شده بوده است اینمعنی را عینا بایلچی خانه خ', 'reg_ شده بوده است_no2': 'شریف قبل ازین چهارده سال مقر ر شده بوده است باید که جنابشان وجه مذکور را ', 'reg_ شده بوده است_no3': 'ها از وجه کار شریف دغل شرطنامه شده بوده است که موافق شرطنامه شه گی از زما'}, 'i126-1-223_ser1522.md': {'reg_ کرده بوده است_no1': ' قدرا نیز متصرف میشویم گفته خط کرده بوده است که مضموم آن بمیرزا خانه کولاب'}, 'i126-2-6190_ser1210.md': {'reg_ سپرده بوده است_no1': ' ترمیز بالا یایلاکدار تپه کیسر سپرده بوده است که در بخارا فرستانید اگر مذکو'}, 'i126-2-6816_ser1216.md': {'reg_ داده بوده است_no1': 'فته در پته گیسر بنوشتن تیلگراف داده بوده است در جواب احمد خواجه نام آدمش ت', 'reg_ داده بوده است_no2': 'اب احمد خواجه نام آدمش تیلگراف داده بوده است که دخوت را دخوت را دادم دخوت '}, 'i126-2-29_ser1324.md': {'reg_ کرده بوده است_no1': 'ب نامان را گ مان بر چیزهای خود کرده بوده است که آنها را یافته بمدع ی مذکور', 'reg_ شده بوده است_no1': ' مسترسرا نیز معلوم نموده حقیقت شده بوده است که بحاضر از روی مضمون عرضه مذ'}, 'i126-2-5865_ser1342.md': {'reg_ داده بوده است_no1': ' روسیه فتح الدین نام نوغی عرضه داده بوده است که قبل ازین بماه ینایر سنه از', 'reg_ کرده بوده است_no1': ' ببدل بیست پنجصوم گ ذشته دستخط کرده بوده است و نیز خود مسماه مذکوره حاضر ش', 'reg_ داده بوده است_no2': ' گرفته از دعوی اش گذشته دست خط داده بوده است'}, 'assorted_riwayat_part_2_tsgaruz_i_126_1_1730.txt': {'reg_ سپاریده بوده است_no1': ' بای نام کوکنار خانه دار امانه سپاریده بوده است که الآن نزد طلب وی تنگه مذکور'}, 'i126-1-1912_ser1491.md': {'reg_ داده بوده است_no1': 'اشرا به یک استا برای درست کردن داده بوده است که بوقت محاربه شیطان عرابه مذ', 'reg_ مانده بوده است_no1': ' را بحجره ابراهم یونس اف امانت مانده بوده است بعد از مردن ابراهم یونس اف مذ'}, 'i126-2-7277_ser1828.md': {'reg_ شده بوده است_no1': ' باغی بزخر نام نکرینچی خذمتکار شده بوده است در آنوقت حادثه مذکوره بظهور ر', 'reg_ داده بوده است_no1': 'وره بظهور رسیده زخر مذکور عرضه داده بوده است ام ا بعد از وقوع حادثه مذکور '}, 'i126-1-566_ser1840.md': {'reg_ داده بوده است_no1': 'و کرمینه را بی سرشته کرده شورش داده بوده است الحال همون ملا محمد قلی مذکور'}, 'dnevnik_mirzy_abdurrakhmana_vedennyi_vo_vremia_puteshestviia_po_bukhare_i_ee_okrestnostiam_av_f33_o1_d217.txt': {'reg_ کرده بوده است_no1': 'بود ویا یک کافر سیاه درده مکان کرده بوده است که حالا سیاه در ده می گویند س'}, 'dnevnik_mirzy_abdurrakhmana_vedennyi_vo_vremia_shakhrisiabskoi_ekspeditsii_av_f33_o1_d220.txt': {'reg_ شده بوده است_no1': ' بخارا بسیار کینه و عداوت پیدا شده بوده است از ان وجه الحال کینه گس میگوی'}}\n"
     ]
    }
   ],
   "source": [
    "print (search)"
   ]
  },
  {
   "cell_type": "code",
   "execution_count": 59,
   "metadata": {},
   "outputs": [],
   "source": [
    "def generate_markdown_report(matches_dict, inbox_path=None):\n",
    "    # Generate a timestamp for the filename\n",
    "    timestamp = datetime.now().strftime(\"%Y%m%d_%H%M%S\")\n",
    "    # Create a standard filename with the timestamp\n",
    "    report_file_name = f\"regex_search_report[{timestamp}].md\"\n",
    "    \n",
    "    # If inbox_path is not provided, use the current directory\n",
    "    if inbox_path is None:\n",
    "        inbox_path = os.getcwd()  # Default to the current working directory\n",
    "    \n",
    "    # Combine the directory and file name to create the full path\n",
    "    full_path = os.path.join(inbox_path, report_file_name)\n",
    "\n",
    "    # Create a Markdown string to hold the report\n",
    "    markdown_content = \"\"\n",
    "\n",
    "    # Iterate through the top-level keys in the dictionary\n",
    "    for file_name, matches in matches_dict.items():\n",
    "        # Add a section for each file\n",
    "        markdown_content += f\"### {file_name}\\n\\n\"\n",
    "        \n",
    "        # Iterate through the matches in the inner dictionary\n",
    "        for match_key, context in matches.items():\n",
    "            # Extract the regex match from the match_key\n",
    "            regex_match = match_key.split('_')[1]  # Get the part between 'reg_' and '_no1'\n",
    "            \n",
    "            # Add the regex match and context to the markdown content\n",
    "            markdown_content += f\"**Regex Match:** {regex_match}\\n\"\n",
    "            markdown_content += f\"**Context:** {context}\\n\\n\"\n",
    "\n",
    "    # Save the markdown content to a file\n",
    "    with open(full_path, 'w', encoding='utf-8') as markdown_file:\n",
    "        markdown_file.write(markdown_content)"
   ]
  },
  {
   "cell_type": "code",
   "execution_count": 60,
   "metadata": {},
   "outputs": [],
   "source": [
    "generate_markdown_report(search, inbox_path)"
   ]
  },
  {
   "cell_type": "code",
   "execution_count": null,
   "metadata": {},
   "outputs": [],
   "source": []
  }
 ],
 "metadata": {
  "kernelspec": {
   "display_name": "Python [conda env:base] *",
   "language": "python",
   "name": "conda-base-py"
  },
  "language_info": {
   "codemirror_mode": {
    "name": "ipython",
    "version": 3
   },
   "file_extension": ".py",
   "mimetype": "text/x-python",
   "name": "python",
   "nbconvert_exporter": "python",
   "pygments_lexer": "ipython3",
   "version": "3.12.7"
  }
 },
 "nbformat": 4,
 "nbformat_minor": 4
}
