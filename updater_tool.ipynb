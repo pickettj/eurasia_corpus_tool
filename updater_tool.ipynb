{
 "cells": [
  {
   "cell_type": "code",
   "execution_count": 33,
   "metadata": {},
   "outputs": [],
   "source": [
    "import pandas as pd\n",
    "from bs4 import BeautifulSoup\n",
    "import os, pickle"
   ]
  },
  {
   "cell_type": "code",
   "execution_count": 31,
   "metadata": {},
   "outputs": [],
   "source": [
    "hdir = os.path.expanduser('~')\n",
    "pickle_path = hdir + \"/Box/Notes/Digital_Humanities/Corpora/pickled_tokenized_cleaned_corpora\""
   ]
  },
  {
   "cell_type": "code",
   "execution_count": 7,
   "metadata": {},
   "outputs": [],
   "source": [
    "locs = pd.read_csv('location_data.csv', names=['id', 'name'])"
   ]
  },
  {
   "cell_type": "code",
   "execution_count": 28,
   "metadata": {},
   "outputs": [
    {
     "data": {
      "text/plain": [
       "['سمرقند', 'ثمرقند']"
      ]
     },
     "execution_count": 28,
     "metadata": {},
     "output_type": "execute_result"
    }
   ],
   "source": [
    "locs[locs['id']==5].iloc[0]['name'].split('\\x0b')"
   ]
  },
  {
   "cell_type": "code",
   "execution_count": 74,
   "metadata": {},
   "outputs": [
    {
     "data": {
      "text/html": [
       "<div>\n",
       "<style scoped>\n",
       "    .dataframe tbody tr th:only-of-type {\n",
       "        vertical-align: middle;\n",
       "    }\n",
       "\n",
       "    .dataframe tbody tr th {\n",
       "        vertical-align: top;\n",
       "    }\n",
       "\n",
       "    .dataframe thead th {\n",
       "        text-align: right;\n",
       "    }\n",
       "</style>\n",
       "<table border=\"1\" class=\"dataframe\">\n",
       "  <thead>\n",
       "    <tr style=\"text-align: right;\">\n",
       "      <th></th>\n",
       "      <th>id</th>\n",
       "      <th>name</th>\n",
       "    </tr>\n",
       "  </thead>\n",
       "  <tbody>\n",
       "    <tr>\n",
       "      <td>0</td>\n",
       "      <td>1</td>\n",
       "      <td>حصار</td>\n",
       "    </tr>\n",
       "    <tr>\n",
       "      <td>1</td>\n",
       "      <td>2</td>\n",
       "      <td>کندرود</td>\n",
       "    </tr>\n",
       "    <tr>\n",
       "      <td>2</td>\n",
       "      <td>3</td>\n",
       "      <td>بخارا</td>\n",
       "    </tr>\n",
       "    <tr>\n",
       "      <td>3</td>\n",
       "      <td>4</td>\n",
       "      <td>ولایت بلخ</td>\n",
       "    </tr>\n",
       "    <tr>\n",
       "      <td>4</td>\n",
       "      <td>5</td>\n",
       "      <td>سمرقند</td>\n",
       "    </tr>\n",
       "    <tr>\n",
       "      <td>...</td>\n",
       "      <td>...</td>\n",
       "      <td>...</td>\n",
       "    </tr>\n",
       "    <tr>\n",
       "      <td>1455</td>\n",
       "      <td>6345</td>\n",
       "      <td>رابعه بلخی</td>\n",
       "    </tr>\n",
       "    <tr>\n",
       "      <td>1456</td>\n",
       "      <td>6346</td>\n",
       "      <td></td>\n",
       "    </tr>\n",
       "    <tr>\n",
       "      <td>1457</td>\n",
       "      <td>6347</td>\n",
       "      <td>آرال</td>\n",
       "    </tr>\n",
       "    <tr>\n",
       "      <td>1458</td>\n",
       "      <td>6348</td>\n",
       "      <td></td>\n",
       "    </tr>\n",
       "    <tr>\n",
       "      <td>1459</td>\n",
       "      <td>6349</td>\n",
       "      <td></td>\n",
       "    </tr>\n",
       "  </tbody>\n",
       "</table>\n",
       "<p>1460 rows × 2 columns</p>\n",
       "</div>"
      ],
      "text/plain": [
       "        id        name\n",
       "0        1        حصار\n",
       "1        2      کندرود\n",
       "2        3       بخارا\n",
       "3        4   ولایت بلخ\n",
       "4        5      سمرقند\n",
       "...    ...         ...\n",
       "1455  6345  رابعه بلخی\n",
       "1456  6346            \n",
       "1457  6347        آرال\n",
       "1458  6348            \n",
       "1459  6349            \n",
       "\n",
       "[1460 rows x 2 columns]"
      ]
     },
     "execution_count": 74,
     "metadata": {},
     "output_type": "execute_result"
    }
   ],
   "source": [
    "pd.DataFrame(sum([[(x.id, z) for z in x.name.split('\\x0b')] for x in locs.fillna('').itertuples()], []), columns=['id', 'name'])"
   ]
  },
  {
   "cell_type": "code",
   "execution_count": 35,
   "metadata": {},
   "outputs": [],
   "source": [
    "with open(pickle_path + \"/xml_corpora.pkl\", \"rb\") as f:\n",
    "    ind_man_docs, hyd_man_docs, trans_man_docs,\\\n",
    "                combo_xml_final, combo_xml_all = pickle.load(f)"
   ]
  },
  {
   "cell_type": "code",
   "execution_count": 36,
   "metadata": {},
   "outputs": [
    {
     "data": {
      "text/plain": [
       "dict_keys(['ser818', 'ser179', 'ser183', 'ser187', 'ser212', 'ser215', 'ser237', 'ser537', 'ser561', 'ser596', 'ser626', 'ser706', 'ser72', 'ser91', 'IVANUz_1936_ser185', 'NLR_f-940_ser190', 'RGVIA_400-1-1015_ser143', 'TsGARUz_i126-1-938-2_ser82', 'TsGARUz_i126_1_1160_ser193', 'TsGARUZ_i126_1_1729_101_ser213', 'TsGARUz_i126_1_1730_19_ser218', 'TsGARUz_i126_1_1730_22_ser217', 'TsGARUz_i126_1_1730_2_ser188', 'TsGARUZ_i126_1_1730_81_ser227', 'TsGARUZ_i126_1_1986_1_ser201', 'TsGARUz_i126_1_1990_20_ser186', 'TsGARUZ_i126_1_1990_3_ser192', 'TsGARUz_R-2678_ser184', 'ser560', 'ser808', 'ser809', 'ser811', 'ser812', 'ser813', 'ser814', 'ser815', 'ser816', 'ser817', 'ser842', 'ser843', 'ser857', 'ser876', 'ser877', 'ser898'])"
      ]
     },
     "execution_count": 36,
     "metadata": {},
     "output_type": "execute_result"
    }
   ],
   "source": [
    "combo_xml_all.keys()"
   ]
  },
  {
   "cell_type": "code",
   "execution_count": 43,
   "metadata": {},
   "outputs": [],
   "source": [
    "tree = BeautifulSoup(combo_xml_all[\"ser898\"])"
   ]
  },
  {
   "cell_type": "code",
   "execution_count": 46,
   "metadata": {},
   "outputs": [],
   "source": [
    "first = tree.find_all('location')[0]"
   ]
  },
  {
   "cell_type": "code",
   "execution_count": 58,
   "metadata": {},
   "outputs": [
    {
     "data": {
      "text/plain": [
       "True"
      ]
     },
     "execution_count": 58,
     "metadata": {},
     "output_type": "execute_result"
    }
   ],
   "source": [
    "'locid' in first.attrs"
   ]
  },
  {
   "cell_type": "code",
   "execution_count": 51,
   "metadata": {},
   "outputs": [],
   "source": [
    "first.attrs['locid'] = 5"
   ]
  },
  {
   "cell_type": "code",
   "execution_count": 52,
   "metadata": {},
   "outputs": [
    {
     "data": {
      "text/plain": [
       "<location locid=\"5\">بلجوان</location>"
      ]
     },
     "execution_count": 52,
     "metadata": {},
     "output_type": "execute_result"
    }
   ],
   "source": [
    "first"
   ]
  },
  {
   "cell_type": "code",
   "execution_count": 63,
   "metadata": {},
   "outputs": [],
   "source": [
    "hits = locs[locs['name']==first.text]"
   ]
  },
  {
   "cell_type": "code",
   "execution_count": 64,
   "metadata": {},
   "outputs": [
    {
     "data": {
      "text/plain": [
       "2"
      ]
     },
     "execution_count": 64,
     "metadata": {},
     "output_type": "execute_result"
    }
   ],
   "source": [
    "len(hits)"
   ]
  },
  {
   "cell_type": "code",
   "execution_count": 53,
   "metadata": {},
   "outputs": [
    {
     "data": {
      "text/plain": [
       "[<location locid=\"5\">بلجوان</location>, <location>فیض اباد</location>]"
      ]
     },
     "execution_count": 53,
     "metadata": {},
     "output_type": "execute_result"
    }
   ],
   "source": [
    "tree.find_all('location')"
   ]
  },
  {
   "cell_type": "code",
   "execution_count": 56,
   "metadata": {},
   "outputs": [
    {
     "data": {
      "text/plain": [
       "'<?xml-model href=\"../../../../../Projects/xml_development_eurasia/schemas/persian_documents_schema_basic.rnc\" type=\"application/relax-ng-compact-syntax\"?><html><body><document serial=\"898\">\\n<div type=\"heading\">\\n<!-- inscriptio -->\\n<ts type=\"inscriptio\"></ts>\\n\\t\\t جناب حضرت وزارت پناهی امیدگاهی و صاحب دولتم سلمه الله تعالی\\n\\t\\t<lb></lb>\\n</div>\\n<div type=\"section\">\\n<!-- left column -->\\n<ts type=\"apprecatio\"></ts>\\n\\t\\t عرضه داشت اینغلام\\n\\t\\t<honorific type=\"inferior\">رضاجوی</honorific>\\n<honorific type=\"inferior\">جانسپار</honorific>\\n<flag type=\"meaning\">خرمان</flag>\\n\\t\\t کثیر الاخلاص\\n\\t\\t<lb></lb>\\n\\t\\t وافر الاعتقاد و خبر خواه عقیدت نهاد قلیل الخدمت کثیر الامید بجناب\\n\\t\\t<lb></lb>\\n\\t\\t ذاة خجسته صفات زیب بخش امارت و زینت افزای بساط\\n\\t\\t<lb></lb>\\n\\t\\t عزت و حرمت ترازندۀ لوای معدلت و نیک نامی فرازنده اعلام\\n\\t\\t<lb></lb>\\n<diplo type=\"orthography\">حشمت</diplo> و انتظام ناظم مناظم و امور دین و دولت بساط\\n\\t\\t<lb></lb>\\n\\t\\t شهریاری حافظ مسند عزت و نامداری مقرب حضرت خاقان <!-- Stan: مقرب حضرت used quite frequently in Safavid period; it was a class of official. -->\\n<lb></lb>\\n\\t\\t و سلطنت مرفوع <diplo indended=\"ضمیر\" type=\"orthography\">طمیر</diplo> منیر خورشید نظیر مملکت\\n\\t\\tپناها بصد هزار <!-- Need to decide how to deal with mistakes in original i.e. above supposed to be ضمیر -->\\n<lb></lb>\\n\\t\\t اداب و شکسته گی چنان رسانیده میشود که الحمد الله احوالات\\n\\t\\t<lb></lb>\\n\\t\\t اینغلام رضاجوی بفضل و کرم الهی بهمین دولت ابد مدة\\n\\t\\t<lb></lb>\\n\\t\\t ظفر نمون بدرجه خوشی در گذر بوده سلامی جنابمولایم را از درگاه --- <!-- Right column (diagonal) -->\\n<lb></lb>\\n</div>\\n<div type=\"section\">\\n<flag type=\"meaning\">ایزید</flag>\\n\\t\\t مراد بخش خواسته\\n\\t\\t<lb></lb>\\n\\t\\t دعا مینمایم\\n\\t\\t<ts type=\"narratio\"></ts>\\n\\t\\tبعده اینکه امیدگاها چنانچه <!-- Beginning of narratio -->\\n<lb></lb>\\n\\t\\t خطیکه همراه\\n\\t\\t<individual>عبد الجبار</individual>\\n\\t\\t غلامشان فرستاده بودید در وقت\\n\\t\\t<lb></lb>\\n\\t\\t نگرانی امده رسید سلامتی را دانسته جهان جهان خورسندی\\n\\t\\t<flag type=\"unclear\">بسلامتها به وفرخمیدی</flag>\\n\\t\\t بی اندازه\\n\\t\\t<lb></lb>\\n\\t\\t حاصل گردید از روی مهربانی جنابمولایم خط حاکم\\n\\t\\t<location locid=\"5\">بلجوان</location>\\n\\t\\t را همراه یک ادم خودم فرستاده در جواب ان\\n\\t\\t<lb></lb>\\n\\t\\t خط گرفته بدست\\n\\t\\t<individual>عبد الجبار بیک</individual>\\n\\t\\t غلامشان بسپاریدم امید ستکه خدمت جناب ان برده سپار و عرض دیگر اینکه امیدگاها <!-- New topic -->\\n<lb></lb>\\n\\t\\t ثانی دهم <date>شهر محرم یوم سه شنبه</date>\\n<individual>مقیم خواجه\\n\\t\\t\\t<role id=\"124\">قراولبیگی</role>\\n</individual>\\n\\t\\t و\\n\\t\\t<individual>عبد الرسول\\n\\t\\t\\t<role id=\"191\">میرزا باشی</role>\\n</individual>\\n\\t\\t غلامشان امده در خوش خوانه اینغلام رضاجوی فرامده\\n\\t\\t<flag type=\"unclear\">نمازی</flag>\\n\\t\\t کرده\\n\\t\\t<lb></lb>\\n\\t\\t مقیم خواجه غلامشان بر امده در موضع فیض اباد رفته ناتیاب شده بوده است از املاکدار فیض اباد\\n\\t\\tبمیر\\n\\t\\t<individual>\\n<role id=\"42\">قشبیگی</role>\\n</individual>\\n\\t\\t خط امد گی محرم امده گی ناتاب شده\\n\\t\\t<lb></lb>\\n\\t\\t از زبان مانده است گفته\\n\\t\\t<individual>میر\\n\\t\\t\\t<role id=\"42\">قشبیگی</role>\\n</individual>\\n\\t\\t این غلامشان را گرفته برده خط املاکدار را نشان داده مهربانی نمودند که زود رفته خبر گیرید اگر\\n\\t\\tمرده باشد خط را\\n\\t\\t<lb></lb>\\n\\t\\t خود شما گرفته برید گفته مهربانی نمودند نماز شام بر امده رفته در موضع\\n\\t\\t<location>فیض اباد</location>\\n\\t\\t رسیدم که\\n\\t\\t<individual>مقیم خواجه</individual>\\n\\t\\t بغلامشان\\n\\t\\t<flag type=\"unclear\">اسیر مه دوانده</flag>\\n\\t\\t کمتر خون کم کرده باز\\n\\t\\t<lb></lb>\\n\\t\\t صحت سلامت پگاه پنجشنبه برامده رفته بوده است از اینجهت معلوم مولایم شود گفته عرض بنده گی\\n\\t\\tنمودم و یکمهربانی جنابمولایم شده بود که\\n\\t\\t<lb></lb>\\n\\t\\t یکسال باز از دخل خرج زمان هیچ معلوم منمیکنید گفته بودید منهم در ارزوی بهمین بودم که یکسال\\n\\t\\tباز در حصار از مهربانی جنابعالی و از\\n\\t\\t<lb></lb>\\n\\t\\t و از شرافت جنابصاحبا دولتنستانم ذکواتچی هستیم هیچ دخلی نباشد\\n\\t\\t<flag type=\"unclear\">چتریقه</flag>\\n\\t\\t معلوم میکرده باشم و بچه طریقه صاحب دولتم را\\n\\t\\t<flag>روزی</flag>\\n<lb></lb>\\n<!-- What to do about misspellings like چتریقه --> میکرده باشم گفته شب روز در انیدهشه بودم\\n\\t\\tاز این مهربانی مولایم سرم بگردون\\n\\t\\t<flag>نیله گون</flag>\\n\\t\\t رسیده از روی نادانی و نا عامیلی ام\\n\\t\\t<lb></lb>\\n\\t\\t خبریکه دخل و خرج شده بود همراه\\n\\t\\t<individual>عبد الطبار بیک</individual>\\n\\t\\t غلامشان بخدمت ذی سعادت جنابمولایم داده فرستادهم هر چه مرحمت مولایم\\n\\t\\t<lb></lb>\\n\\t\\t شود غلام هستم دیگر اطراف و جوانب اینولا علما فضلا فقیر فقرا همه اسایش بوده دعا گوی دیگر\\n\\t\\t<flag>پیشه</flag>\\n\\t\\t و اندیشه\\n\\t\\t<flag>ندارند</flag>\\n<lb></lb>\\n\\t\\t خصوص این غلام رضاجوی شب و روز دعا دولت جنابعالی و مولازاده گانم را از درگاهی\\n\\t\\t<flag>شهر</flag>\\n\\t\\t خواسته دعا مینمایم که\\n\\t\\t<lb></lb>\\n<flag>رهرسایه</flag>\\n\\t\\t دولت جناب ان را از\\n\\t\\t<flag>سرما</flag>\\n\\t\\t غریب دعاگوی کم نکنند\\n\\t\\t<flag>انها</flag>\\n\\t\\t امین باقی ایام بکام ا\\n\\t\\t<flag>لایوم قام</flag>\\n<lb></lb>\\n\\t\\t باقی السلام علیکم الفقر الفقر حضرت واجب\\n\\t\\t<flag>تناکی</flag>\\n\\t\\t الفقر الفقر\\n\\t\\t<lb></lb>\\n\\t\\t الفقر الفقر\\n\\t\\t<lb></lb>\\n</div>\\n</document>\\n</body></html>'"
      ]
     },
     "execution_count": 56,
     "metadata": {},
     "output_type": "execute_result"
    }
   ],
   "source": [
    "str(tree)"
   ]
  },
  {
   "cell_type": "code",
   "execution_count": null,
   "metadata": {},
   "outputs": [],
   "source": []
  }
 ],
 "metadata": {
  "kernelspec": {
   "display_name": "Python 3",
   "language": "python",
   "name": "python3"
  },
  "language_info": {
   "codemirror_mode": {
    "name": "ipython",
    "version": 3
   },
   "file_extension": ".py",
   "mimetype": "text/x-python",
   "name": "python",
   "nbconvert_exporter": "python",
   "pygments_lexer": "ipython3",
   "version": "3.7.4"
  }
 },
 "nbformat": 4,
 "nbformat_minor": 4
}
